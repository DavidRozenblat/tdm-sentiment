{
 "cells": [
  {
   "cell_type": "markdown",
   "metadata": {},
   "source": [
    "### import libraries and helper function "
   ]
  },
  {
   "cell_type": "code",
   "execution_count": 9,
   "metadata": {},
   "outputs": [],
   "source": [
    "from tdm_parser.tdm_parser import TdmXmlParser\n",
    "from pathlib import Path\n",
    "parser = TdmXmlParser()\n",
    "\n",
    "def get_file_path():\n",
    "    \"\"\"\n",
    "    get file path from user given the corpus name and GOID number\n",
    "    \"\"\"\n",
    "    corpus_path = Path('/home/ec2-user/SageMaker/data/')\n",
    "    corpus_name_mapping = {\n",
    "        'new york times': 'Newyork20042023',\n",
    "        'los angeles times': 'LosAngelesTimesDavid',\n",
    "        'washington post': 'TheWashingtonPostDavid',\n",
    "        'chicago tribune': 'ChicagoTribune',\n",
    "        'usa today': 'USATodayDavid'\n",
    "    }\n",
    "\n",
    "    # Get user input corpus name and normalize to lowercase\n",
    "    corpus_name_input = input('Please enter Newspaper Name: ').strip().lower()\n",
    "\n",
    "    # Check if the input is valid\n",
    "    while corpus_name_input not in corpus_name_mapping:\n",
    "        corpus_name_input = input('Please enter a Valid Newspaper Name: ').strip().lower()\n",
    "    \n",
    "    # Construct the file path\n",
    "    corpus_name = corpus_name_mapping[corpus_name_input]\n",
    "    # Get user input GOID number and convert to int\n",
    "    goid_input = input('Please enter GOID number: ')\n",
    "    while not goid_input.isdigit():\n",
    "        goid_input = input('Please enter a Valid GOID number: ')\n",
    "            \n",
    "    full_path = corpus_path / corpus_name / f'{goid_input}.xml' \n",
    "    return full_path\n",
    "    "
   ]
  },
  {
   "cell_type": "markdown",
   "metadata": {},
   "source": [
    "### get file path "
   ]
  },
  {
   "cell_type": "code",
   "execution_count": 24,
   "metadata": {},
   "outputs": [
    {
     "name": "stdout",
     "output_type": "stream",
     "text": [
      "Please enter Newspaper Name: washington post\n",
      "Please enter GOID number: 1672802972\n"
     ]
    }
   ],
   "source": [
    "xml_file_path = get_file_path()\n",
    "\n",
    "\n",
    "# examples \n",
    "#Newspaper: USA Today, GOID: 2619098768\n",
    "#Newspaper: usa today, GOID: 40900705 \n",
    "#Newspaper: Chicago Tribune, GOID: 420425293\n",
    "#Newspaper: chicago tribune, GOID: 1552400240\n",
    "#Newspaper: los angeles times , GOID: 421073540\n",
    "#Newspaper: Los Angeles times, GOID: 421073540\n",
    "#Newspaper: new york times, GOID: 432877202 \n",
    "#Newspaper: new york times, GOID: 759991258\n",
    "#Newspaper: washington post, GOID: 1562299929\n",
    "#Newspaper: washington post, GOID: 1672802972"
   ]
  },
  {
   "cell_type": "markdown",
   "metadata": {},
   "source": [
    "### print attributes"
   ]
  },
  {
   "cell_type": "code",
   "execution_count": 25,
   "metadata": {},
   "outputs": [
    {
     "name": "stdout",
     "output_type": "stream",
     "text": [
      "Title: Calif. drought makes fracking a target \n",
      "\n",
      "Text: \n",
      "\n",
      "with the continual worsening of california's drought, an odd argument has arisen. it's the notion that in the context of the drought, it's important for the state to cut back on the water used in \"fracking,\" the hydraulic fracturing method of extracting oil or gas reserves.\n",
      "but there's one problem. whatever you might think about fracking - and there is ample room for disagreement on this complex issue - it is hard to argue that the amount of water that the oil and gas technology uses in california reaches a scale sufficient to count as a major drought contributor. rather, in the grand context of california's water woes, the numbers appear small indeed.\n",
      "how small?\n",
      "reuters recently reported that california oil companies used \"214 acre-feet of water, equivalent to nearly 70 million gallons, in the process of fracking for oil and gas in the state last year, less than previously projected.\" the story, which cited \"state officials\" for the figure, was widely read, and the factoid ended up going viral online.\n",
      "seventy million gallons may sound like a large number. but in the context of california's drought, it's not. in december, nasa noted that it would take 11 trillion gallons to end the drought.\n",
      "and in a blog post recently, michael campana, a hydrologist at oregon state university, tore into those citing the 70 million number in arguments against fracking, noting that in 2010, california's freshwater \"withdrawals\" amounted to \"31 billion gallons per day or 11.3 trillion gallons per year \" (excluding thermoelectric withdrawals, which campana said he assumed were \"not freshwater\").\n",
      "by that reckoning, fracking accounted for 0.00062 percent of the state's annual water withdrawals, campana wrote.\n",
      "similarly, california gov. jerry brown was recently asked about the subject on \"meet the press.\" brown responded, \"fracking in california has been going on for more than 50 years. it uses a fraction of the water of fracking on the east coast, for gas, particularly. this is vertical fracking for the most part. it is different.\"\n",
      "vertical fracking means that while water is indeed being blasted underground to crack rock, it isn't being combined with horizontal or \"sideways\" drilling. that's a relatively new technology that has enabled the unconventional oil and gas revolution by allowing for the drilling of long lateral passages beneath the ground, following a roughly 90-degree turn of the drill.\n",
      "rock zierman, chief executive of the california independent petroleum association, says that most fracking in california is vertical rather than horizontal because of the state's particular geology.\n",
      "\"hydraulic fracturing is so much different here in california,\" zierman said. \"we pretty much only do vertical, single-stage hydraulic fracturing.\" therefore, zierman said he thinks the 70-million-gallon figure is \"about right.\"\n",
      "a recent report from the california council on science and technology (ccst) concurred, noting that an average california fracking operation consumes about 530 cubic meters of water per well - far less than the roughly 16,000 cubic meters used in horizontal wells in texas.\n",
      "the environmental advocacy group californians against fracking has been citing the drought in its campaigns. patrick sullivan, a spokesman for the group, questioned whether the figure of 70 million gallons represents the full extent of fracking water use, calling it \"self-reported data\" and arguing that fracking is different from other water uses.\n",
      "\"this is water that is by and large taken out of the water cycle for good,\" he said. \"it's too contaminated to use in any other way.\" that, says sullivan, makes water used in fracking different \"from water that's used to water your lawn or brush your teeth.\"\n",
      "sullivan also pointed out concerns about water being contaminated by industrial wells used to dispose of wastewater.\n",
      "the los angeles times reported last month that state officials \"inadvertently allowed oil companies to inject wastewater - from fracking and other oil production operations - into hundreds of disposal wells in protected aquifers, a violation of federal law.\"\n",
      "so, according to sullivan, objections to fracking aren't simply about the 70 million-odd gallons used last year. rather, it's about all the different water uses of industry operations - and, especially, about the possibility of expanded fracking in california in the future.\n",
      "but zierman doubts that's going to happen, at least in the short term. \"because of oil prices, we're going to see drilling cut significantly, maybe 40 or 50 percent less drilling,\" he says. \"that's going to lead to less hydraulic fracturing and less water use, both.\"\n",
      "in the longer term, environmentalists are also worried about fracking in the much-touted monterey shale - but for the moment, it's not clear how much hydrocarbon resources it contains. estimates of recoverable resources were \"dramatically lowered\" recently, notes the ccst, which calls the issue of how much oil can be recovered from the formation \"highly uncertain.\"\n",
      "so there is much uncertainty about how much this resource will be developed, or how much that will, in turn, bring on more fracking-related water use. the ccst will be releasing independent fracking studies july 1.\n",
      "undoubtedly, environmentalists and industry will continue to tussle over the future of fracking in california - but the data suggest that this is a side issue in the context of the drought.\n",
      "meanwhile, the california energy commission just moved to impose rules for the installation of far more water-efficient toilets, faucets and urinals - rules that, according to the commission, could save 105 billion gallons of water per year.\n"
     ]
    }
   ],
   "source": [
    "#get atributes\n",
    "soup = parser.get_xml_soup(xml_file_path) # get soup \n",
    "title = soup.find('Title').text.strip() # extract title \n",
    "texts = parser.get_art_text(soup) # extract text\n",
    "\n",
    "# print article attributes\n",
    "print(f'Title: {title} \\n')\n",
    "\n",
    "print('Text: \\n')\n",
    "for text in texts: #print text\n",
    "    print(text)"
   ]
  }
 ],
 "metadata": {
  "kernelspec": {
   "display_name": "david_py",
   "language": "python",
   "name": "david_py"
  },
  "language_info": {
   "codemirror_mode": {
    "name": "ipython",
    "version": 3
   },
   "file_extension": ".py",
   "mimetype": "text/x-python",
   "name": "python",
   "nbconvert_exporter": "python",
   "pygments_lexer": "ipython3",
   "version": "3.12.7"
  }
 },
 "nbformat": 4,
 "nbformat_minor": 2
}
