{
 "cells": [
  {
   "cell_type": "markdown",
   "metadata": {},
   "source": [
    "### import libraries and helper function"
   ]
  },
  {
   "cell_type": "code",
   "execution_count": 8,
   "metadata": {},
   "outputs": [],
   "source": [
    "# set environment\n",
    "from pathlib import Path\n",
    "SRC_PATH = Path('/home/ec2-user/SageMaker/david/tdm-sentiment/src/')\n",
    "import sys\n",
    "sys.path.append(str(SRC_PATH))\n",
    "from config import *\n",
    "\n",
    "\n",
    "parser = tdm_parser.TdmXmlParser()\n",
    "\n",
    "def get_file_path():\n",
    "    \"\"\"\n",
    "    get file path from user given the corpus name and GOID number\n",
    "    \"\"\"\n",
    "    corpus_path = CORPUSES_PATH\n",
    "    corpus_name_mapping = {\n",
    "        'new york times': 'Newyork20042023',\n",
    "        'los angeles times': 'LosAngelesTimesDavid',\n",
    "        'washington post': 'TheWashingtonPostDavid',\n",
    "        'chicago tribune': 'ChicagoTribune',\n",
    "        'usa today': 'USATodayDavid'\n",
    "    }\n",
    "\n",
    "    # Get user input corpus name and normalize to lowercase\n",
    "    corpus_name_input = input('Please enter Newspaper Name: ').strip().lower()\n",
    "\n",
    "    # Check if the input is valid\n",
    "    while corpus_name_input not in corpus_name_mapping:\n",
    "        corpus_name_input = input('Please enter a Valid Newspaper Name: ').strip().lower()\n",
    "\n",
    "    # Construct the file path\n",
    "    corpus_name = corpus_name_mapping[corpus_name_input]\n",
    "    # Get user input GOID number and convert to int\n",
    "    goid_input = input('Please enter GOID number: ')\n",
    "    while not goid_input.isdigit():\n",
    "        goid_input = input('Please enter a Valid GOID number: ')\n",
    "\n",
    "    full_path = corpus_path / corpus_name / f'{goid_input}.xml'\n",
    "    return full_path\n"
   ]
  },
  {
   "cell_type": "markdown",
   "metadata": {},
   "source": [
    "### get file path "
   ]
  },
  {
   "cell_type": "code",
   "execution_count": 9,
   "metadata": {},
   "outputs": [],
   "source": [
    "xml_file_path = get_file_path()\n",
    "\n",
    "# examples\n",
    "# Newspaper: USA Today, GOID: 1027415041\n",
    "# Newspaper: usa today, GOID: 40900705\n",
    "# Newspaper: Chicago Tribune, GOID: 420425293\n",
    "# Newspaper: chicago tribune, GOID: 1552402040\n",
    "# Newspaper: los angeles times , GOID: 421073540\n",
    "# Newspaper: Los Angeles times, GOID: 421073540\n",
    "# Newspaper: new york times, GOID: 1034336215\n",
    "# Newspaper: new york times, GOID: 2460220538\n",
    "# Newspaper: washington post, GOID: 156229992\n",
    "# Newspaper: washington post, GOID: 1672802972\n"
   ]
  },
  {
   "cell_type": "markdown",
   "metadata": {},
   "source": [
    "### get attributes"
   ]
  },
  {
   "cell_type": "code",
   "execution_count": 10,
   "metadata": {},
   "outputs": [
    {
     "name": "stdout",
     "output_type": "stream",
     "text": [
      "Title: Majority in City See Police Dept. As Favoring Whites, a Poll Finds \n",
      "\n",
      "Text: \n",
      "\n",
      "a significant majority of new yorkers say the police department favors whites over blacks, according to a new poll by the new york times.\n",
      "that view, as widespread now as it was in 2001 during the administration of mayor rudolph w. giuliani, is particularly prevalent among black new yorkers, 80 percent of whom say the police favor one race over the other. a plurality of white residents -- 48 percent -- agree.\n",
      "concern about police favoritism comes at a time of intensified scrutiny of the department's extensive practice of stopping, questioning and, in many instances, frisking people on the city's streets. last year, the police made nearly 700,000 stops; about 85 percent of the stops involved blacks or hispanics.\n",
      "the poll found that a majority of black residents said the stop-and-frisk tactic had led to the harassment of innocent people, but most white residents viewed the practice as an acceptable way to improve urban safety.\n",
      "among all new yorkers, 48 percent said the tactic was \"acceptable to make new york city safer,\" while almost as many -- 45 percent -- deemed the tactic \"excessive.\" most of those surveyed rejected mayor michael r. bloomberg's chief rationale for the practice, saying they did not think that stopping and frisking suspicious people had lowered the crime rate or reduced the use of illegal guns.\n",
      "\"stop-and-frisk would be a good idea if they did it right,\" jose aponte, 64, a retired doorman who lives in the bronx, said in a follow-up interview after the poll. \"but it's not decreasing crime or guns. there are more shootings every day.\"\n",
      "but mr. bloomberg and the police commissioner, raymond w. kelly, received high marks on the crime issue: 57 percent of new yorkers said they approved of the way the mayor was dealing with crime, and 61 percent said they approved of the way the commissioner was handling his job. even 50 percent of the respondents who said they had been the target of a racially motivated police stop approved of mr. kelly's management.\n",
      "\"i live in brooklyn, in coney island, and everybody has guns; 3-year-old kids have guns! it's outrageous,\" said johnny rivera, 52, a former foreman at an aluminum company. as for the stop-and-frisk tactic, he said, \"the worst thing they could do is stop it.\"\n",
      "mr. bloomberg, who has overseen a significant rise in the number of stops during his nearly 11 years in office, scored slightly lower on his stewardship of race relations, with half of residents saying they approved and one-third saying they disapproved. just 36 percent of black residents said they approved of the mayor's handling of race relations.\n",
      "james westcott, a bronx resident who has been unemployed for two years, said he had been stopped by the police on three occasions. \"one right after the other, by three different patrol cars,\" mr. westcott, who is black, said. he also said the police had become less considerate, adding, \"it started getting bad when giuliani was mayor, and now it's getting worse and worse.\"\n",
      "\"you know it's excessive when you see people get stopped who really don't deserve to be stopped, like kids going to school,\" mr. westcott, 44, said. \"the police just jump out, stop them, search them, take their names down, then get back in their car and leave, and the kids don't know what went on.\"\n",
      "but some new yorkers, while conceding that the police show favoritism for one race over another, said the stop-and-frisk tactic's ends justified the means.\n",
      "\"if that's what it takes, i find it acceptable,\" said jani kipness, 58, a special-education teacher from brooklyn who is white. she said that she thought that officers \"single out minority groups,\" but that \"if you look at the crime in new york, it's less white people; that's just the way it is.\"\n",
      "\"i wouldn't want to be stopped and frisked,\" she added. \"but if you look at cities like detroit and other cities that have a way higher crime rate than new york, i think new york has to be doing something right.\"\n",
      "the stop-and-frisk practice has come under harsh criticism from civil liberties groups and some lower court judges. the issue has become a subject of debate among elected officials and has apparently captured the attention of the public: more than three-quarters of new yorkers interviewed for the poll said they had heard a lot or some about it.\n",
      "the criticism has prompted mr. kelly, who has argued strongly that the stop-and-frisk practice is an important crime-fighting tool, to pledge changes to ensure the lawfulness of the practice. the number of stops fell by more than 34 percent in april, may and june, compared with the previous quarter.\n",
      "crime is not new yorkers' top concern. but more residents cited crime and violence as an important problem than in a times poll two years ago. the proportion who would prefer to keep living in the city, rather than move away, is at the highest level in more than a decade.\n",
      "opinions about the stop-and-frisk practice are divided by race. fifty-five percent of whites described the use of the tactic as acceptable; 56 percent of blacks called it excessive. among hispanics, 48 percent said it was acceptable, and 44 percent said it was excessive. republicans, independents and queens residents generally support the practice; democrats and manhattanites generally deem it excessive.\n",
      "over all, 64 percent of new yorkers said the police favored one race over the other, a steep rise from the early years of the bloomberg administration, when less than half of residents agreed with that sentiment. the last times poll in which the perception of police favoritism was as widespread was taken in 2001, the final year of mayor giuliani's tenure, when race relations were noticeably more tense. (the question has not been asked in a times poll since 2003.)\n",
      "these views, in many cases, appear to have been influenced by personal experience. a third of the new yorkers surveyed, including 37 percent of black people, said police officers had used insulting language toward them. a fifth of the respondents said they had been stopped by a police officer because of their race or ethnicity, and almost all were black or hispanic, and more likely to be young and male.\n",
      "\"in the bronx, brooklyn, queens, they will stop and frisk blacks and hispanics more,\" said kevon geanus, 20, a construction worker who is black and lives in the bronx. \"the way they talk to you, and curse at you, when you're just walking, for example, and say: 'why are you walking? what are you doing out here at night?' \"\n",
      "the poll of 1,026 adults, conducted aug. 10 to 15 using landline phones and cellphones, has a margin of sampling error of plus or minus three percentage points. the margin is six points for black respondents and seven points for hispanic respondents.\n",
      "a street mural in east new york, brooklyn, depicts police officers using the stop-and-frisk tactic, which has been heavily criticized. (photograph by robert stolarik for the new york times) (a16)\n"
     ]
    }
   ],
   "source": [
    "#get attributes\n",
    "soup = parser.get_xml_soup(xml_file_path)  # get soup\n",
    "title = soup.find('Title').text.strip()    # extract title\n",
    "texts = parser.get_art_text(soup)          # extract text\n",
    "\n",
    "# print article attributes\n",
    "print(f'Title: {title} \\n')\n",
    "\n",
    "print('Text: \\n')\n",
    "for text in texts:  # print text\n",
    "    print(text)\n"
   ]
  }
 ],
 "metadata": {
  "kernelspec": {
   "display_name": "Python 3",
   "language": "python",
   "name": "python3"
  },
  "language_info": {
   "codemirror_mode": {
    "name": "ipython",
    "version": 3
   },
   "file_extension": ".py",
   "mimetype": "text/x-python",
   "name": "python",
   "nbconvert_exporter": "python",
   "pygments_lexer": "ipython3",
   "version": "3.12.4"
  }
 },
 "nbformat": 4,
 "nbformat_minor": 2
}
