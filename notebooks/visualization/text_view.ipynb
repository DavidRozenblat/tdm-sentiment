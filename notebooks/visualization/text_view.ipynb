{
 "cells": [
  {
   "cell_type": "markdown",
   "metadata": {},
   "source": [
    "### import libraries and helper function"
   ]
  },
  {
   "cell_type": "code",
   "execution_count": null,
   "metadata": {},
   "outputs": [],
   "source": [
    "# set environment\n",
    "from pathlib import Path\n",
    "SRC_PATH = Path('/home/ec2-user/SageMaker/david/tdm-sentiment/src/')\n",
    "import sys\n",
    "sys.path.append(str(SRC_PATH))\n",
    "from config import *\n",
    "\n",
    "\n",
    "parser = tdm_parser.TdmXmlParser()\n",
    "\n",
    "def get_file_path():\n",
    "    \"\"\"\n",
    "    get file path from user given the corpus name and GOID number\n",
    "    \"\"\"\n",
    "    corpus_path = CORPUSES_PATH\n",
    "    corpus_name_mapping = {\n",
    "        'new york times': 'Newyork20042023',\n",
    "        'los angeles times': 'LosAngelesTimesDavid',\n",
    "        'washington post': 'TheWashingtonPostDavid',\n",
    "        'chicago tribune': 'ChicagoTribune',\n",
    "        'usa today': 'USATodayDavid'\n",
    "    }\n",
    "\n",
    "    # Get user input corpus name and normalize to lowercase\n",
    "    corpus_name_input = input('Please enter Newspaper Name: ').strip().lower()\n",
    "\n",
    "    # Check if the input is valid\n",
    "    while corpus_name_input not in corpus_name_mapping:\n",
    "        corpus_name_input = input('Please enter a Valid Newspaper Name: ').strip().lower()\n",
    "\n",
    "    # Construct the file path\n",
    "    corpus_name = corpus_name_mapping[corpus_name_input]\n",
    "    # Get user input GOID number and convert to int\n",
    "    goid_input = input('Please enter GOID number: ')\n",
    "    while not goid_input.isdigit():\n",
    "        goid_input = input('Please enter a Valid GOID number: ')\n",
    "\n",
    "    full_path = corpus_path / corpus_name / f'{goid_input}.xml'\n",
    "    return full_path\n"
   ]
  },
  {
   "cell_type": "markdown",
   "metadata": {},
   "source": [
    "### get file path "
   ]
  },
  {
   "cell_type": "code",
   "execution_count": null,
   "metadata": {},
   "outputs": [],
   "source": [
    "xml_file_path = get_file_path()\n",
    "\n",
    "# examples\n",
    "# Newspaper: USA Today, GOID: 1027415041\n",
    "# Newspaper: usa today, GOID: 40900705\n",
    "# Newspaper: Chicago Tribune, GOID: 420425293\n",
    "# Newspaper: chicago tribune, GOID: 1552402040\n",
    "# Newspaper: los angeles times , GOID: 421073540\n",
    "# Newspaper: Los Angeles times, GOID: 421073540\n",
    "# Newspaper: new york times, GOID: 1034336215\n",
    "# Newspaper: new york times, GOID: 2460220538\n",
    "# Newspaper: washington post, GOID: 156229992\n",
    "# Newspaper: washington post, GOID: 1672802972\n"
   ]
  },
  {
   "cell_type": "markdown",
   "metadata": {},
   "source": [
    "### get attributes"
   ]
  },
  {
   "cell_type": "code",
   "execution_count": null,
   "metadata": {},
   "outputs": [],
   "source": [
    "#get attributes\n",
    "soup = parser.get_xml_soup(xml_file_path)  # get soup\n",
    "title = soup.find('Title').text.strip()    # extract title\n",
    "texts = parser.get_art_text(soup)          # extract text\n",
    "\n",
    "# print article attributes\n",
    "print(f'Title: {title} \\n')\n",
    "\n",
    "print('Text: \\n')\n",
    "for text in texts:  # print text\n",
    "    print(text)\n"
   ]
  }
 ],
 "metadata": {
  "kernelspec": {
   "display_name": "venv",
   "language": "python",
   "name": "python3"
  },
  "language_info": {
   "codemirror_mode": {
    "name": "ipython",
    "version": 3
   },
   "file_extension": ".py",
   "mimetype": "text/x-python",
   "name": "python",
   "nbconvert_exporter": "python",
   "pygments_lexer": "ipython3",
   "version": "3.12.3"
  }
 },
 "nbformat": 4,
 "nbformat_minor": 2
}
