{
 "cells": [
  {
   "cell_type": "markdown",
   "id": "8353ac00",
   "metadata": {},
   "source": [
    "### set environment"
   ]
  },
  {
   "cell_type": "code",
   "execution_count": null,
   "id": "316fb163",
   "metadata": {},
   "outputs": [],
   "source": [
    "# set environment\n",
    "from pathlib import Path\n",
    "SRC_PATH = Path('/home/ec2-user/SageMaker/david/tdm-sentiment/src/')\n",
    "import sys\n",
    "sys.path.append(str(SRC_PATH))\n",
    "from config import *\n",
    "\n",
    "# import libraries\n",
    "import pandas as pd\n",
    "# corpuses: Newyork20042023, LosAngelesTimesDavid, TheWashingtonPostDavid,ChicagoTribune, USATodayDavid\n",
    "corpus_name = input('please enter corpus name:').strip()\n",
    "folder = RESULTS_PATH / corpus_name"
   ]
  },
  {
   "cell_type": "markdown",
   "id": "06c258c2",
   "metadata": {},
   "source": [
    "### view result df"
   ]
  },
  {
   "cell_type": "code",
   "execution_count": null,
   "id": "dc3fd562",
   "metadata": {},
   "outputs": [],
   "source": [
    "# Find all files in the folder that match the pattern\n",
    "files_to_combine = list(folder.glob('*.csv'))\n",
    "\n",
    "\n",
    "# Read each matching file into a DataFrame and accumulate them in a list\n",
    "dfs = []\n",
    "for file_path in files_to_combine:\n",
    "    # Read the CSV file\n",
    "    df = pd.read_csv(file_path)\n",
    "    dfs.append(df)\n",
    "\n",
    "# Concatenate all DataFrames into one. If no files were found, return an empty DataFrame.\n",
    "df = pd.concat(dfs, ignore_index=True) if dfs else pd.DataFrame()\n",
    "df[2:3]\n",
    "\n",
    "#df = df[['goid', 'title_positive_prob', 'title_neutral_prob', 'title_negative_prob']]\n",
    "\n",
    "#path = PROJECT_DATA_PATH / 'processed/results_to_export/finbert_results'\n",
    "#output_file = path / 'nyt_finbert_title_probs.csv'\n",
    "#df.to_csv(output_file, index=False)\n",
    "\n",
    "\n"
   ]
  },
  {
   "cell_type": "code",
   "execution_count": null,
   "id": "06cfa0c1",
   "metadata": {},
   "outputs": [],
   "source": [
    "df.columns"
   ]
  },
  {
   "cell_type": "markdown",
   "id": "3fb5fabd",
   "metadata": {},
   "source": [
    "### check sentiment score vs probs "
   ]
  },
  {
   "cell_type": "code",
   "execution_count": null,
   "id": "06ee2ea0",
   "metadata": {},
   "outputs": [],
   "source": [
    "# title sentiment\n",
    "#pos_title = 3.433594e-08\t\n",
    "#neg_title = 0.000004\n",
    "sentiment_title = -0.650155\t\t#(pos_title-neg_title)/(pos_title+neg_title)\n",
    "print(f'sentiment_title: {sentiment_title}')\n",
    "\n",
    "pos_body = 0.256161\t\n",
    "neg_body = 0.743839\n",
    "sentiment_body = (pos_body-neg_body)/(pos_body+neg_body)\n",
    "print(f'sentiment_body: {sentiment_body}')\n",
    "\n",
    "sentiment = 0.2*sentiment_title + 0.8*sentiment_body\n",
    "print(f'sentiment: {sentiment}')"
   ]
  },
  {
   "cell_type": "code",
   "execution_count": null,
   "id": "d5b7dfdf",
   "metadata": {},
   "outputs": [],
   "source": [
    "# check if directory exsists\n",
    "from pathlib import Path\n",
    "\n",
    "# point this at the folder you want to check\n",
    "p = PROJECT_DATA_PATH / 'processed/results_to_export/finbert_results'\n",
    "\n",
    "# .is_dir() returns True iff the path exists and is a directory\n",
    "if p.is_dir():\n",
    "    print(f\"✅ Directory exists: {p}\")\n",
    "else:\n",
    "    print(f\"❌ Directory does not exist: {p}\")\n"
   ]
  }
 ],
 "metadata": {
  "kernelspec": {
   "display_name": ".venv",
   "language": "python",
   "name": "python3"
  },
  "language_info": {
   "codemirror_mode": {
    "name": "ipython",
    "version": 3
   },
   "file_extension": ".py",
   "mimetype": "text/x-python",
   "name": "python",
   "nbconvert_exporter": "python",
   "pygments_lexer": "ipython3",
   "version": "3.12.3"
  }
 },
 "nbformat": 4,
 "nbformat_minor": 5
}
