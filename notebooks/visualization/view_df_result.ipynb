{
 "cells": [
  {
   "cell_type": "markdown",
   "id": "8353ac00",
   "metadata": {},
   "source": [
    "### set environment"
   ]
  },
  {
   "cell_type": "code",
   "execution_count": null,
   "id": "316fb163",
   "metadata": {},
   "outputs": [],
   "source": [
    "# set environment\n",
    "from pathlib import Path\n",
    "SRC_PATH = Path('/home/ec2-user/SageMaker/david/tdm-sentiment/src/')\n",
    "import sys\n",
    "sys.path.append(str(SRC_PATH))\n",
    "from config import *\n",
    "\n",
    "# import libraries\n",
    "import pandas as pd\n",
    "# corpuses: Newyork20042023, LosAngelesTimesDavid, TheWashingtonPostDavid,ChicagoTribune, USATodayDavid\n",
    "corpus_name = input('please enter corpus name:').strip()\n",
    "folder = RESULTS_PATH / corpus_name"
   ]
  },
  {
   "cell_type": "markdown",
   "id": "06c258c2",
   "metadata": {},
   "source": [
    "### view result df"
   ]
  },
  {
   "cell_type": "code",
   "execution_count": 6,
   "id": "dc3fd562",
   "metadata": {},
   "outputs": [
    {
     "data": {
      "text/html": [
       "<div>\n",
       "<style scoped>\n",
       "    .dataframe tbody tr th:only-of-type {\n",
       "        vertical-align: middle;\n",
       "    }\n",
       "\n",
       "    .dataframe tbody tr th {\n",
       "        vertical-align: top;\n",
       "    }\n",
       "\n",
       "    .dataframe thead th {\n",
       "        text-align: right;\n",
       "    }\n",
       "</style>\n",
       "<table border=\"1\" class=\"dataframe\">\n",
       "  <thead>\n",
       "    <tr style=\"text-align: right;\">\n",
       "      <th></th>\n",
       "      <th>goid</th>\n",
       "      <th>publisher</th>\n",
       "      <th>date</th>\n",
       "      <th>article_type</th>\n",
       "      <th>section</th>\n",
       "      <th>tdm_topic_tags</th>\n",
       "      <th>page</th>\n",
       "      <th>word_count</th>\n",
       "      <th>title</th>\n",
       "      <th>paragrph_text</th>\n",
       "      <th>company_name</th>\n",
       "      <th>is_economic</th>\n",
       "      <th>bert_sentiment</th>\n",
       "      <th>title_sentiment</th>\n",
       "      <th>title_positive_prob</th>\n",
       "      <th>title_neutral_prob</th>\n",
       "      <th>title_negative_prob</th>\n",
       "      <th>paragraph_avg_positive</th>\n",
       "      <th>paragraph_avg_neutral</th>\n",
       "      <th>paragraph_avg_negative</th>\n",
       "    </tr>\n",
       "  </thead>\n",
       "  <tbody>\n",
       "    <tr>\n",
       "      <th>2</th>\n",
       "      <td>1620547810</td>\n",
       "      <td>New York Times</td>\n",
       "      <td>2014-11-06</td>\n",
       "      <td>News</td>\n",
       "      <td>D</td>\n",
       "      <td>Furniture</td>\n",
       "      <td>D.3</td>\n",
       "      <td>146</td>\n",
       "      <td>The 'Get Smart' Desk</td>\n",
       "      <td>['henrybuilt, a seattle company known for its ...</td>\n",
       "      <td>NaN</td>\n",
       "      <td>1</td>\n",
       "      <td>-0.499768</td>\n",
       "      <td>-0.208405</td>\n",
       "      <td>0.000033</td>\n",
       "      <td>0.999915</td>\n",
       "      <td>0.000051</td>\n",
       "      <td>0.250232</td>\n",
       "      <td>0.0</td>\n",
       "      <td>0.749768</td>\n",
       "    </tr>\n",
       "  </tbody>\n",
       "</table>\n",
       "</div>"
      ],
      "text/plain": [
       "         goid       publisher        date article_type section tdm_topic_tags  \\\n",
       "2  1620547810  New York Times  2014-11-06         News       D      Furniture   \n",
       "\n",
       "  page  word_count                 title  \\\n",
       "2  D.3         146  The 'Get Smart' Desk   \n",
       "\n",
       "                                       paragrph_text company_name  \\\n",
       "2  ['henrybuilt, a seattle company known for its ...          NaN   \n",
       "\n",
       "   is_economic  bert_sentiment  title_sentiment  title_positive_prob  \\\n",
       "2            1       -0.499768        -0.208405             0.000033   \n",
       "\n",
       "   title_neutral_prob  title_negative_prob  paragraph_avg_positive  \\\n",
       "2            0.999915             0.000051                0.250232   \n",
       "\n",
       "   paragraph_avg_neutral  paragraph_avg_negative  \n",
       "2                    0.0                0.749768  "
      ]
     },
     "execution_count": 6,
     "metadata": {},
     "output_type": "execute_result"
    }
   ],
   "source": [
    "# Find all files in the folder that match the pattern\n",
    "files_to_combine = list(folder.glob('*.csv'))\n",
    "\n",
    "\n",
    "# Read each matching file into a DataFrame and accumulate them in a list\n",
    "dfs = []\n",
    "for file_path in files_to_combine:\n",
    "    # Read the CSV file\n",
    "    df = pd.read_csv(file_path)\n",
    "    dfs.append(df)\n",
    "\n",
    "# Concatenate all DataFrames into one. If no files were found, return an empty DataFrame.\n",
    "df = pd.concat(dfs, ignore_index=True) if dfs else pd.DataFrame()\n",
    "df[2:3]\n",
    "\n",
    "#df = df[['goid', 'title_positive_prob', 'title_neutral_prob', 'title_negative_prob']]\n",
    "\n",
    "#path = PROJECT_DATA_PATH / 'processed/results_to_export/finbert_results'\n",
    "#output_file = path / 'nyt_finbert_title_probs.csv'\n",
    "#df.to_csv(output_file, index=False)\n",
    "\n",
    "\n"
   ]
  },
  {
   "cell_type": "code",
   "execution_count": 7,
   "id": "06cfa0c1",
   "metadata": {},
   "outputs": [
    {
     "data": {
      "text/plain": [
       "Index(['goid', 'publisher', 'date', 'article_type', 'section',\n",
       "       'tdm_topic_tags', 'page', 'word_count', 'title', 'paragrph_text',\n",
       "       'company_name', 'is_economic', 'bert_sentiment', 'title_sentiment',\n",
       "       'title_positive_prob', 'title_neutral_prob', 'title_negative_prob',\n",
       "       'paragraph_avg_positive', 'paragraph_avg_neutral',\n",
       "       'paragraph_avg_negative'],\n",
       "      dtype='object')"
      ]
     },
     "execution_count": 7,
     "metadata": {},
     "output_type": "execute_result"
    }
   ],
   "source": [
    "df.columns"
   ]
  },
  {
   "cell_type": "markdown",
   "id": "3fb5fabd",
   "metadata": {},
   "source": [
    "### check sentiment score vs probs "
   ]
  },
  {
   "cell_type": "code",
   "execution_count": 6,
   "id": "06ee2ea0",
   "metadata": {},
   "outputs": [
    {
     "name": "stdout",
     "output_type": "stream",
     "text": [
      "sentiment_title: -0.650155\n",
      "sentiment_body: -0.487678\n",
      "sentiment: -0.5201734\n"
     ]
    }
   ],
   "source": [
    "# title sentiment\n",
    "#pos_title = 3.433594e-08\t\n",
    "#neg_title = 0.000004\n",
    "sentiment_title = -0.650155\t\t#(pos_title-neg_title)/(pos_title+neg_title)\n",
    "print(f'sentiment_title: {sentiment_title}')\n",
    "\n",
    "pos_body = 0.256161\t\n",
    "neg_body = 0.743839\n",
    "sentiment_body = (pos_body-neg_body)/(pos_body+neg_body)\n",
    "print(f'sentiment_body: {sentiment_body}')\n",
    "\n",
    "sentiment = 0.2*sentiment_title + 0.8*sentiment_body\n",
    "print(f'sentiment: {sentiment}')"
   ]
  },
  {
   "cell_type": "code",
   "execution_count": 7,
   "id": "d5b7dfdf",
   "metadata": {},
   "outputs": [
    {
     "name": "stdout",
     "output_type": "stream",
     "text": [
      "✅ Directory exists: /home/ec2-user/SageMaker/david/tdm-sentiment/data/processed/results_to_export/finbert_results\n"
     ]
    }
   ],
   "source": [
    "# check if directory exsists\n",
    "from pathlib import Path\n",
    "\n",
    "# point this at the folder you want to check\n",
    "p = PROJECT_DATA_PATH / 'processed/results_to_export/finbert_results'\n",
    "\n",
    "# .is_dir() returns True iff the path exists and is a directory\n",
    "if p.is_dir():\n",
    "    print(f\"✅ Directory exists: {p}\")\n",
    "else:\n",
    "    print(f\"❌ Directory does not exist: {p}\")\n"
   ]
  }
 ],
 "metadata": {
  "kernelspec": {
   "display_name": ".venv",
   "language": "python",
   "name": "python3"
  },
  "language_info": {
   "codemirror_mode": {
    "name": "ipython",
    "version": 3
   },
   "file_extension": ".py",
   "mimetype": "text/x-python",
   "name": "python",
   "nbconvert_exporter": "python",
   "pygments_lexer": "ipython3",
   "version": "3.12.3"
  }
 },
 "nbformat": 4,
 "nbformat_minor": 5
}
