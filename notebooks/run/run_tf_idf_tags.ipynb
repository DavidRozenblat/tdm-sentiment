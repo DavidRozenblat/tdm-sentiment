{
 "cells": [
  {
   "cell_type": "code",
   "execution_count": null,
   "id": "f7e437ad",
   "metadata": {},
   "outputs": [],
   "source": [
    "# set environment\n",
    "from pathlib import Path\n",
    "SRC_PATH = Path('/home/ec2-user/SageMaker/david/tdm-sentiment/src/')\n",
    "import sys\n",
    "sys.path.append(str(SRC_PATH))\n",
    "from config import *\n",
    "tf_idf_extractor = tf_idf_extractor.TfidfKeywordExtractor(model_path=TF_IDF_MODEL_PATH)"
   ]
  },
  {
   "cell_type": "code",
   "execution_count": null,
   "id": "a5780f99",
   "metadata": {},
   "outputs": [],
   "source": [
    "def modify_corpus_tf_idf_tags(corpus_name):\n",
    "    result_folder_path = PROJECT_DATA_PATH / 'processed/results/' / corpus_name\n",
    "    properties_modifier.modify_csv_tf_idf(result_folder_path, corpus_name, tf_idf_extractor, top_n = 15)"
   ]
  },
  {
   "cell_type": "code",
   "execution_count": null,
   "id": "9acc7f7b",
   "metadata": {},
   "outputs": [],
   "source": [
    "def main():\n",
    "    # Loop over each corpus in CORPUSES_LIST\n",
    "    for corpus_name in CORPUSES_LIST:\n",
    "        modify_corpus_tf_idf_tags(corpus_name)\n",
    "\n",
    "if __name__ == \"__main__\":\n",
    "    main()"
   ]
  }
 ],
 "metadata": {
  "kernelspec": {
   "display_name": ".venv",
   "language": "python",
   "name": "python3"
  },
  "language_info": {
   "codemirror_mode": {
    "name": "ipython",
    "version": 3
   },
   "file_extension": ".py",
   "mimetype": "text/x-python",
   "name": "python",
   "nbconvert_exporter": "python",
   "pygments_lexer": "ipython3",
   "version": "3.12.3"
  }
 },
 "nbformat": 4,
 "nbformat_minor": 5
}
