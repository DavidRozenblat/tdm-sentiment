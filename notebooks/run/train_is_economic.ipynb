{
 "cells": [
  {
   "cell_type": "markdown",
   "id": "9e13ef4d",
   "metadata": {},
   "source": [
    "### initialization"
   ]
  },
  {
   "cell_type": "code",
   "execution_count": null,
   "id": "ec09d7bd",
   "metadata": {},
   "outputs": [],
   "source": [
    "from pathlib import Path\n",
    "SRC_PATH = Path('/home/ec2-user/SageMaker/david/tdm-sentiment/src/')\n",
    "import sys\n",
    "sys.path.append(str(SRC_PATH))\n",
    "from config import *\n",
    "import pandas as pd\n",
    "import logging\n",
    "\n",
    "is_economic_model = is_economic_module.EconomicClassifier(model_path=IS_ECONOMIC_MODEL, initialize=True)  # Initialize the economic model\n",
    "tdm_parser = tdm_parser_module.TdmXmlParser()\n",
    "\n",
    "corpuses_dir = CORPUSES_PATH  #'all_dataset_file_names.txt' LosAngelesTimesDavid all_dataset_file_names.txt # Path to the input\n",
    "output_path = FILE_NAMES_PATH / 'is_economic_train_files.txt'  # Path to the output text file\n",
    "csv_path = PROJECT_DATA_PATH / 'train_data' / 'economic_classifier_train_data.csv'\n",
    "file_names_path = FILE_NAMES_PATH / 'is_economic_train_files.txt'  # 'all_dataset_file_names.txt'  # Path to the file containing names\n",
    "\n",
    "\n",
    "# set logger\n",
    "logger = logging.getLogger()\n",
    "logger.setLevel(logging.DEBUG)\n",
    "logger.handlers.clear()\n",
    "\n",
    "handler = logging.FileHandler(filename=LOGS_PATH / 'train_is_economic_info.log') \n",
    "formatter =logging.Formatter('%(asctime)s - %(name)s - %(message)s')\n",
    "handler.setFormatter(formatter)\n",
    "logger.addHandler(handler)"
   ]
  },
  {
   "cell_type": "markdown",
   "id": "a4d16ec5",
   "metadata": {},
   "source": [
    "### train model "
   ]
  },
  {
   "cell_type": "code",
   "execution_count": null,
   "id": "16d5be12",
   "metadata": {},
   "outputs": [],
   "source": [
    "# try get data training dataset if exists\n",
    "try:\n",
    "    df = pd.read_csv(csv_path)\n",
    "    print(df.head(2))\n",
    "except:    \n",
    "    # get sample file\n",
    "    file_process.get_file_paths_sample(corpuses_dir, output_path, sample_size=500*10**3)\n",
    "\n",
    "    # crate and save df\n",
    "    df = file_process.load_df_from_xml(corpuses_dir, file_names_path)\n",
    "    # save df\n",
    "    csv_path.parent.mkdir(parents=True, exist_ok=True) # Ensure the output directory exists\n",
    "    df.to_csv(csv_path, index=False)\n",
    "    logger.info(f\"Training data saved to {csv_path}\")\n",
    "    #print(df.head(2))\n",
    "\n",
    "# Assuming df is a DataFrame with the necessary columns\n",
    "X_test, y_test = is_economic_model.train_classifier(df, data_column='paragrph_text', label_column='section')\n",
    "# is_economic_model.save_model() # be careful to make a copy of current one first \n",
    "\n",
    "logger.info(f'model evaluation with thrashold=0.5 is: \\n {is_economic_model.evaluate_model(X_test, y_test, threshold=0.5)}')\n",
    "logger.info(f'model evaluation with thrashold=0.7 is: \\n {is_economic_model.evaluate_model(X_test, y_test, threshold=0.7)}')"
   ]
  }
 ],
 "metadata": {
  "kernelspec": {
   "display_name": "venv",
   "language": "python",
   "name": "python3"
  },
  "language_info": {
   "codemirror_mode": {
    "name": "ipython",
    "version": 3
   },
   "file_extension": ".py",
   "mimetype": "text/x-python",
   "name": "python",
   "nbconvert_exporter": "python",
   "pygments_lexer": "ipython3",
   "version": "3.10.18"
  }
 },
 "nbformat": 4,
 "nbformat_minor": 5
}
