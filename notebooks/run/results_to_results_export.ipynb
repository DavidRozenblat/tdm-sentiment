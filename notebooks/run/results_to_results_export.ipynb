{
 "cells": [
  {
   "cell_type": "markdown",
   "id": "8353ac00",
   "metadata": {},
   "source": [
    "### set environment"
   ]
  },
  {
   "cell_type": "code",
   "execution_count": null,
   "id": "316fb163",
   "metadata": {},
   "outputs": [],
   "source": [
    "# set environment\n",
    "from pathlib import Path\n",
    "SRC_PATH = Path('/home/ec2-user/SageMaker/david/tdm-sentiment/src/')\n",
    "import sys\n",
    "sys.path.append(str(SRC_PATH))\n",
    "from config import *\n",
    "\n",
    "import pandas as pd\n",
    "\n",
    "\n",
    "# corpuses: Newyork20042023, LosAngelesTimesDavid, TheWashingtonPostDavid,ChicagoTribune, USATodayDavid\n",
    "corpus_name = input('please enter corpus name:').strip()\n",
    "folder = RESULTS_PATH / corpus_name\n",
    "export_folder = PROJECT_PATH / 'data/processed/results_to_export/' / corpus_name\n",
    "# make sure export directory exsist and if not add \n",
    "export_folder.mkdir(exist_ok=True)\n"
   ]
  },
  {
   "cell_type": "markdown",
   "id": "06c258c2",
   "metadata": {},
   "source": [
    "### modify ruselt df's and save into result to export  "
   ]
  },
  {
   "cell_type": "code",
   "execution_count": null,
   "id": "dc3fd562",
   "metadata": {},
   "outputs": [],
   "source": [
    "\n",
    "# columns to export\n",
    "export_columns = ['goid', 'publisher', 'date', 'article_type', 'section',\n",
    "       'tdm_topic_tags', 'page', 'word_count', \n",
    "       'company_name', 'is_economic', 'bert_sentiment', 'title_sentiment',\n",
    "       'title_positive_prob', 'title_neutral_prob', 'title_negative_prob',\n",
    "       'paragraph_avg_positive', 'paragraph_avg_neutral', 'paragraph_avg_negative', 'tf_idf_tags']\n",
    "        \n",
    "# Find all csv files in the folder \n",
    "csv_files = list(folder.glob('*.csv'))\n",
    "\n",
    "\n",
    "# Read each matching file into a DataFrame modifay and save to export\n",
    "for csv in csv_files:\n",
    "    # Read the CSV file\n",
    "    df = pd.read_csv(csv)\n",
    "    df = df[export_columns]\n",
    "    df.to_csv(export_folder / csv.name, index=False)\n",
    "    \n",
    "\n"
   ]
  }
 ],
 "metadata": {
  "kernelspec": {
   "display_name": ".venv",
   "language": "python",
   "name": "python3"
  },
  "language_info": {
   "codemirror_mode": {
    "name": "ipython",
    "version": 3
   },
   "file_extension": ".py",
   "mimetype": "text/x-python",
   "name": "python",
   "nbconvert_exporter": "python",
   "pygments_lexer": "ipython3",
   "version": "3.12.3"
  }
 },
 "nbformat": 4,
 "nbformat_minor": 5
}
