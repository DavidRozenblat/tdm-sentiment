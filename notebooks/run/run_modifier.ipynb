{
 "cells": [
  {
   "cell_type": "code",
   "execution_count": 1,
   "id": "f7e437ad",
   "metadata": {},
   "outputs": [
    {
     "name": "stderr",
     "output_type": "stream",
     "text": [
      "Device set to use cpu\n"
     ]
    },
    {
     "name": "stdout",
     "output_type": "stream",
     "text": [
      "BERT model loaded successfully from '/home/ec2-user/SageMaker/david/tdm-sentiment/src/sentiment/sentiment_model/distilbert-base-uncased-finetuned-sst-2-english' on device -1.\n"
     ]
    }
   ],
   "source": [
    "# set environment\n",
    "from pathlib import Path\n",
    "SRC_PATH = Path('/home/ec2-user/SageMaker/david/tdm-sentiment/src/')\n",
    "import sys\n",
    "sys.path.append(str(SRC_PATH))\n",
    "from config import *\n",
    "sentiment_analyzer = sentiment_score.TextAnalysis(SENTIMENT_MODEL_PATH)\n"
   ]
  },
  {
   "cell_type": "code",
   "execution_count": 2,
   "id": "a5780f99",
   "metadata": {},
   "outputs": [],
   "source": [
    "def modify_corpus_tf_idf_tags(corpus_name):\n",
    "    result_folder_path = PROJECT_DATA_PATH / 'processed/results/' / corpus_name\n",
    "    properties_modifier.modify_csv_tf_idf(result_folder_path, corpus_name, tf_idf_extractor, top_n = 15)\n",
    "    \n",
    "def modify_corpus_title_sentiment(corpus_name):\n",
    "    result_folder_path = PROJECT_DATA_PATH / 'processed/results/' / corpus_name\n",
    "    properties_modifier.modify_csv_title_sentiment(result_folder_path, corpus_name, sentiment_analyzer)\n",
    "    \n",
    "def modify_corpus_title_sentiment_prob(corpus_name):\n",
    "    result_folder_path = PROJECT_DATA_PATH / 'processed/results/' / corpus_name\n",
    "    properties_modifier.modify_csv_title_sentiment_prob(result_folder_path, corpus_name, sentiment_analyzer)\n",
    "    \n",
    "def add_tag_to_corpus(corpus_name, tag_name):\n",
    "    result_folder_path = PROJECT_DATA_PATH / 'processed/results/' / corpus_name\n",
    "    properties_modifier.add_a_tdm_tag_to_csv(result_folder_path, corpus_name, tag_name)\n",
    "    \n",
    "def modify_corpus_paragraph_sentiment_prob(corpus_name):\n",
    "    result_folder_path = PROJECT_DATA_PATH / 'processed/results/' / corpus_name\n",
    "    properties_modifier.modify_csv_paragraph_sentiment_prob(result_folder_path, corpus_name, sentiment_analyzer)\n",
    "    \n"
   ]
  },
  {
   "cell_type": "code",
   "execution_count": 3,
   "id": "9acc7f7b",
   "metadata": {},
   "outputs": [
    {
     "name": "stdout",
     "output_type": "stream",
     "text": [
      "Processing chunk 0: chunk_0_data.csv\n"
     ]
    },
    {
     "name": "stderr",
     "output_type": "stream",
     "text": [
      "Chunk 0:   0%|          | 0/20 [00:00<?, ?it/s]"
     ]
    },
    {
     "name": "stderr",
     "output_type": "stream",
     "text": [
      "/home/davidrozenblat/tdm-sentiment/.venv/lib/python3.12/site-packages/transformers/pipelines/text_classification.py:106: UserWarning: `return_all_scores` is now deprecated,  if want a similar functionality use `top_k=None` instead of `return_all_scores=True` or `top_k=1` instead of `return_all_scores=False`.\n",
      "  warnings.warn(\n",
      "Chunk 0:  25%|██▌       | 5/20 [00:03<00:11,  1.34it/s]"
     ]
    },
    {
     "name": "stdout",
     "output_type": "stream",
     "text": [
      "text Truncate, len text is613\n",
      "text Truncate, len text is568\n",
      "text Truncate, len text is545\n",
      "text Truncate, len text is588\n",
      "text Truncate, len text is636\n",
      "text Truncate, len text is533\n",
      "text Truncate, len text is616\n",
      "text Truncate, len text is539\n",
      "text Truncate, len text is612\n",
      "text Truncate, len text is812\n"
     ]
    },
    {
     "name": "stderr",
     "output_type": "stream",
     "text": [
      "Chunk 0:  35%|███▌      | 7/20 [00:05<00:09,  1.35it/s]"
     ]
    },
    {
     "name": "stdout",
     "output_type": "stream",
     "text": [
      "text Truncate, len text is539\n",
      "text Truncate, len text is570\n",
      "text Truncate, len text is553\n"
     ]
    },
    {
     "name": "stderr",
     "output_type": "stream",
     "text": [
      "Chunk 0:  40%|████      | 8/20 [00:07<00:12,  1.03s/it]"
     ]
    },
    {
     "name": "stdout",
     "output_type": "stream",
     "text": [
      "text Truncate, len text is545\n",
      "text Truncate, len text is554\n"
     ]
    },
    {
     "name": "stderr",
     "output_type": "stream",
     "text": [
      "Chunk 0:  45%|████▌     | 9/20 [00:09<00:14,  1.30s/it]"
     ]
    },
    {
     "name": "stdout",
     "output_type": "stream",
     "text": [
      "text Truncate, len text is679\n",
      "text Truncate, len text is555\n"
     ]
    },
    {
     "name": "stderr",
     "output_type": "stream",
     "text": [
      "Chunk 0:  50%|█████     | 10/20 [00:11<00:14,  1.48s/it]"
     ]
    },
    {
     "name": "stdout",
     "output_type": "stream",
     "text": [
      "text Truncate, len text is575\n",
      "text Truncate, len text is606\n",
      "text Truncate, len text is797\n"
     ]
    },
    {
     "name": "stderr",
     "output_type": "stream",
     "text": [
      "Chunk 0:  60%|██████    | 12/20 [00:11<00:06,  1.16it/s]"
     ]
    },
    {
     "name": "stdout",
     "output_type": "stream",
     "text": [
      "text Truncate, len text is529\n"
     ]
    },
    {
     "name": "stderr",
     "output_type": "stream",
     "text": [
      "Chunk 0:  75%|███████▌  | 15/20 [00:13<00:03,  1.29it/s]"
     ]
    },
    {
     "name": "stdout",
     "output_type": "stream",
     "text": [
      "text Truncate, len text is558\n"
     ]
    },
    {
     "name": "stderr",
     "output_type": "stream",
     "text": [
      "Chunk 0:  85%|████████▌ | 17/20 [00:14<00:02,  1.48it/s]"
     ]
    },
    {
     "name": "stdout",
     "output_type": "stream",
     "text": [
      "text Truncate, len text is576\n",
      "text Truncate, len text is548\n"
     ]
    },
    {
     "name": "stderr",
     "output_type": "stream",
     "text": [
      "Chunk 0:  90%|█████████ | 18/20 [00:16<00:01,  1.23it/s]"
     ]
    },
    {
     "name": "stdout",
     "output_type": "stream",
     "text": [
      "text Truncate, len text is534\n"
     ]
    },
    {
     "name": "stderr",
     "output_type": "stream",
     "text": [
      "Chunk 0: 100%|██████████| 20/20 [00:17<00:00,  1.11it/s]\n"
     ]
    },
    {
     "name": "stdout",
     "output_type": "stream",
     "text": [
      "All paragraph sentiment probability files processed successfully!\n",
      "Processing chunk 0: chunk_0_data.csv\n"
     ]
    },
    {
     "name": "stderr",
     "output_type": "stream",
     "text": [
      "Chunk 0:   0%|          | 0/20 [00:00<?, ?it/s]/home/davidrozenblat/tdm-sentiment/.venv/lib/python3.12/site-packages/transformers/pipelines/text_classification.py:106: UserWarning: `return_all_scores` is now deprecated,  if want a similar functionality use `top_k=None` instead of `return_all_scores=True` or `top_k=1` instead of `return_all_scores=False`.\n",
      "  warnings.warn(\n",
      "Chunk 0:   5%|▌         | 1/20 [59:44<18:54:57, 3584.07s/it]"
     ]
    },
    {
     "name": "stdout",
     "output_type": "stream",
     "text": [
      "text Truncate, len text is1054\n",
      "text Truncate, len text is1129\n",
      "text Truncate, len text is1223\n",
      "text Truncate, len text is1176\n",
      "text Truncate, len text is1038\n",
      "text Truncate, len text is885\n",
      "text Truncate, len text is1129\n",
      "text Truncate, len text is916\n",
      "text Truncate, len text is1095\n",
      "text Truncate, len text is1217\n",
      "text Truncate, len text is1188\n",
      "text Truncate, len text is531\n",
      "text Truncate, len text is582\n",
      "text Truncate, len text is514\n",
      "text Truncate, len text is580\n",
      "text Truncate, len text is520\n",
      "text Truncate, len text is684\n",
      "text Truncate, len text is591\n",
      "text Truncate, len text is556\n",
      "text Truncate, len text is563\n",
      "text Truncate, len text is529\n",
      "text Truncate, len text is574\n",
      "text Truncate, len text is627\n",
      "text Truncate, len text is531\n",
      "text Truncate, len text is664\n",
      "text Truncate, len text is663\n",
      "text Truncate, len text is719\n",
      "text Truncate, len text is553\n",
      "text Truncate, len text is546\n",
      "text Truncate, len text is636\n",
      "text Truncate, len text is671\n",
      "text Truncate, len text is749\n",
      "text Truncate, len text is640\n",
      "text Truncate, len text is588\n",
      "text Truncate, len text is642\n",
      "text Truncate, len text is571\n",
      "text Truncate, len text is589\n",
      "text Truncate, len text is615\n",
      "text Truncate, len text is705\n",
      "text Truncate, len text is530\n",
      "text Truncate, len text is576\n",
      "text Truncate, len text is515\n",
      "text Truncate, len text is540\n",
      "text Truncate, len text is745\n",
      "text Truncate, len text is641\n",
      "text Truncate, len text is584\n",
      "text Truncate, len text is618\n",
      "text Truncate, len text is567\n",
      "text Truncate, len text is548\n",
      "text Truncate, len text is568\n",
      "text Truncate, len text is719\n",
      "text Truncate, len text is582\n",
      "text Truncate, len text is608\n",
      "text Truncate, len text is1781\n"
     ]
    },
    {
     "name": "stderr",
     "output_type": "stream",
     "text": [
      "Chunk 0: 100%|██████████| 20/20 [00:29<00:00,  1.46s/it]    \n"
     ]
    },
    {
     "name": "stdout",
     "output_type": "stream",
     "text": [
      "text Truncate, len text is649\n",
      "All paragraph sentiment probability files processed successfully!\n",
      "Processing chunk 0: chunk_0_data.csv\n"
     ]
    },
    {
     "name": "stderr",
     "output_type": "stream",
     "text": [
      "Chunk 0:   0%|          | 0/25 [00:00<?, ?it/s]/home/davidrozenblat/tdm-sentiment/.venv/lib/python3.12/site-packages/transformers/pipelines/text_classification.py:106: UserWarning: `return_all_scores` is now deprecated,  if want a similar functionality use `top_k=None` instead of `return_all_scores=True` or `top_k=1` instead of `return_all_scores=False`.\n",
      "  warnings.warn(\n"
     ]
    },
    {
     "name": "stdout",
     "output_type": "stream",
     "text": [
      "text Truncate, len text is615\n"
     ]
    },
    {
     "name": "stderr",
     "output_type": "stream",
     "text": [
      "Chunk 0:   8%|▊         | 2/25 [00:01<00:21,  1.06it/s]"
     ]
    },
    {
     "name": "stdout",
     "output_type": "stream",
     "text": [
      "text Truncate, len text is639\n",
      "text Truncate, len text is566\n",
      "text Truncate, len text is712\n",
      "text Truncate, len text is629\n"
     ]
    },
    {
     "name": "stderr",
     "output_type": "stream",
     "text": [
      "Chunk 0:  12%|█▏        | 3/25 [00:03<00:31,  1.43s/it]"
     ]
    },
    {
     "name": "stdout",
     "output_type": "stream",
     "text": [
      "text Truncate, len text is565\n"
     ]
    },
    {
     "name": "stderr",
     "output_type": "stream",
     "text": [
      "Chunk 0:  24%|██▍       | 6/25 [00:05<00:14,  1.31it/s]"
     ]
    },
    {
     "name": "stdout",
     "output_type": "stream",
     "text": [
      "text Truncate, len text is527\n"
     ]
    },
    {
     "name": "stderr",
     "output_type": "stream",
     "text": [
      "Chunk 0:  28%|██▊       | 7/25 [00:07<00:17,  1.04it/s]"
     ]
    },
    {
     "name": "stdout",
     "output_type": "stream",
     "text": [
      "text Truncate, len text is626\n",
      "text Truncate, len text is560\n"
     ]
    },
    {
     "name": "stderr",
     "output_type": "stream",
     "text": [
      "Chunk 0:  56%|█████▌    | 14/25 [00:12<00:07,  1.41it/s]"
     ]
    },
    {
     "name": "stdout",
     "output_type": "stream",
     "text": [
      "text Truncate, len text is539\n",
      "text Truncate, len text is904\n",
      "text Truncate, len text is1117\n",
      "text Truncate, len text is822\n"
     ]
    },
    {
     "name": "stderr",
     "output_type": "stream",
     "text": [
      "Chunk 0:  68%|██████▊   | 17/25 [00:14<00:04,  1.95it/s]"
     ]
    },
    {
     "name": "stdout",
     "output_type": "stream",
     "text": [
      "text Truncate, len text is543\n"
     ]
    },
    {
     "name": "stderr",
     "output_type": "stream",
     "text": [
      "Chunk 0:  80%|████████  | 20/25 [00:16<00:02,  1.78it/s]"
     ]
    },
    {
     "name": "stdout",
     "output_type": "stream",
     "text": [
      "text Truncate, len text is2517\n"
     ]
    },
    {
     "name": "stderr",
     "output_type": "stream",
     "text": [
      "Chunk 0:  88%|████████▊ | 22/25 [00:19<00:02,  1.03it/s]"
     ]
    },
    {
     "name": "stdout",
     "output_type": "stream",
     "text": [
      "text Truncate, len text is868\n"
     ]
    },
    {
     "name": "stderr",
     "output_type": "stream",
     "text": [
      "Chunk 0: 100%|██████████| 25/25 [00:21<00:00,  1.15it/s]\n"
     ]
    },
    {
     "name": "stdout",
     "output_type": "stream",
     "text": [
      "All paragraph sentiment probability files processed successfully!\n",
      "Processing chunk 0: chunk_0_data.csv\n"
     ]
    },
    {
     "name": "stderr",
     "output_type": "stream",
     "text": [
      "Chunk 0:   0%|          | 0/21 [00:00<?, ?it/s]/home/davidrozenblat/tdm-sentiment/.venv/lib/python3.12/site-packages/transformers/pipelines/text_classification.py:106: UserWarning: `return_all_scores` is now deprecated,  if want a similar functionality use `top_k=None` instead of `return_all_scores=True` or `top_k=1` instead of `return_all_scores=False`.\n",
      "  warnings.warn(\n",
      "Chunk 0:  33%|███▎      | 7/21 [00:04<00:06,  2.17it/s]"
     ]
    },
    {
     "name": "stdout",
     "output_type": "stream",
     "text": [
      "text Truncate, len text is539\n",
      "text Truncate, len text is904\n",
      "text Truncate, len text is1117\n"
     ]
    },
    {
     "name": "stderr",
     "output_type": "stream",
     "text": [
      "Chunk 0:  38%|███▊      | 8/21 [00:04<00:05,  2.26it/s]"
     ]
    },
    {
     "name": "stdout",
     "output_type": "stream",
     "text": [
      "text Truncate, len text is822\n"
     ]
    },
    {
     "name": "stderr",
     "output_type": "stream",
     "text": [
      "Chunk 0:  48%|████▊     | 10/21 [00:05<00:05,  2.13it/s]"
     ]
    },
    {
     "name": "stdout",
     "output_type": "stream",
     "text": [
      "text Truncate, len text is543\n"
     ]
    },
    {
     "name": "stderr",
     "output_type": "stream",
     "text": [
      "Chunk 0:  62%|██████▏   | 13/21 [00:08<00:05,  1.56it/s]"
     ]
    },
    {
     "name": "stdout",
     "output_type": "stream",
     "text": [
      "text Truncate, len text is2517\n"
     ]
    },
    {
     "name": "stderr",
     "output_type": "stream",
     "text": [
      "Chunk 0:  67%|██████▋   | 14/21 [59:53<2:06:22, 1083.22s/it]"
     ]
    },
    {
     "name": "stdout",
     "output_type": "stream",
     "text": [
      "text Truncate, len text is649\n",
      "text Truncate, len text is868\n"
     ]
    },
    {
     "name": "stderr",
     "output_type": "stream",
     "text": [
      "Chunk 0: 100%|██████████| 21/21 [00:16<00:00,  1.31it/s]    \n"
     ]
    },
    {
     "name": "stdout",
     "output_type": "stream",
     "text": [
      "All paragraph sentiment probability files processed successfully!\n",
      "Processing chunk 0: chunk_0_data.csv\n"
     ]
    },
    {
     "name": "stderr",
     "output_type": "stream",
     "text": [
      "Chunk 0:   0%|          | 0/20 [00:00<?, ?it/s]/home/davidrozenblat/tdm-sentiment/.venv/lib/python3.12/site-packages/transformers/pipelines/text_classification.py:106: UserWarning: `return_all_scores` is now deprecated,  if want a similar functionality use `top_k=None` instead of `return_all_scores=True` or `top_k=1` instead of `return_all_scores=False`.\n",
      "  warnings.warn(\n",
      "Chunk 0:  25%|██▌       | 5/20 [00:04<00:11,  1.36it/s]"
     ]
    },
    {
     "name": "stdout",
     "output_type": "stream",
     "text": [
      "text Truncate, len text is559\n",
      "text Truncate, len text is516\n"
     ]
    },
    {
     "name": "stderr",
     "output_type": "stream",
     "text": [
      "Chunk 0:  40%|████      | 8/20 [00:07<00:11,  1.01it/s]"
     ]
    },
    {
     "name": "stdout",
     "output_type": "stream",
     "text": [
      "text Truncate, len text is3652\n"
     ]
    },
    {
     "name": "stderr",
     "output_type": "stream",
     "text": [
      "Chunk 0:  45%|████▌     | 9/20 [00:08<00:11,  1.03s/it]"
     ]
    },
    {
     "name": "stdout",
     "output_type": "stream",
     "text": [
      "text Truncate, len text is688\n",
      "text Truncate, len text is542\n"
     ]
    },
    {
     "name": "stderr",
     "output_type": "stream",
     "text": [
      "Chunk 0:  55%|█████▌    | 11/20 [00:10<00:07,  1.17it/s]"
     ]
    },
    {
     "name": "stdout",
     "output_type": "stream",
     "text": [
      "text Truncate, len text is529\n"
     ]
    },
    {
     "name": "stderr",
     "output_type": "stream",
     "text": [
      "Chunk 0:  60%|██████    | 12/20 [00:11<00:08,  1.01s/it]"
     ]
    },
    {
     "name": "stdout",
     "output_type": "stream",
     "text": [
      "text Truncate, len text is529\n"
     ]
    },
    {
     "name": "stderr",
     "output_type": "stream",
     "text": [
      "Chunk 0: 100%|██████████| 20/20 [00:24<00:00,  1.23s/it]      "
     ]
    },
    {
     "name": "stdout",
     "output_type": "stream",
     "text": [
      "All paragraph sentiment probability files processed successfully!\n"
     ]
    },
    {
     "name": "stderr",
     "output_type": "stream",
     "text": [
      "\n"
     ]
    }
   ],
   "source": [
    "\n",
    "def main():\n",
    "    # Loop over each corpus in CORPUSES_LIST\n",
    "    for corpus_name in CORPUSES_LIST:\n",
    "    #modify_corpus_tf_idf_tags(corpus_name)\n",
    "    #modify_corpus_title_sentiment(corpus_name)\n",
    "    #modify_corpus_paragraph_sentiment_prob(corpus_name)\n",
    "        modify_corpus_paragraph_sentiment_prob(corpus_name)\n",
    "        \n",
    "#if __name__ == \"__main__\":\n",
    "main()\n",
    "    "
   ]
  }
 ],
 "metadata": {
  "kernelspec": {
   "display_name": ".venv",
   "language": "python",
   "name": "python3"
  },
  "language_info": {
   "codemirror_mode": {
    "name": "ipython",
    "version": 3
   },
   "file_extension": ".py",
   "mimetype": "text/x-python",
   "name": "python",
   "nbconvert_exporter": "python",
   "pygments_lexer": "ipython3",
   "version": "3.12.3"
  }
 },
 "nbformat": 4,
 "nbformat_minor": 5
}
