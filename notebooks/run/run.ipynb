{
 "cells": [
  {
   "cell_type": "code",
   "execution_count": null,
   "id": "a3362965",
   "metadata": {},
   "outputs": [],
   "source": [
    "# set environment\n",
    "from pathlib import Path\n",
    "SRC_PATH = Path('/home/ec2-user/SageMaker/david/tdm-sentiment/src/')\n",
    "import sys\n",
    "sys.path.append(str(SRC_PATH))\n",
    "from config import *\n",
    "import pipeline as pipe\n",
    "import logging\n",
    "\n",
    "# set logger\n",
    "logger = logging.getLogger()\n",
    "logger.setLevel(logging.DEBUG)"
   ]
  },
  {
   "cell_type": "code",
   "execution_count": null,
   "id": "f5f421c4",
   "metadata": {},
   "outputs": [],
   "source": [
    "# run economic step holder\n",
    "log_file_name = 'main_is_economic'\n",
    "\n",
    "# set logger\n",
    "logger.handlers.clear()\n",
    "handler = logging.FileHandler(filename=LOGS_PATH / f'{log_file_name}.log')\n",
    "formatter =logging.Formatter('%(asctime)s - %(name)s - %(message)s')\n",
    "handler.setFormatter(formatter)\n",
    "logger.addHandler(handler)\n",
    "\n",
    "# run\n",
    "for corpus_name in CORPUSES_LIST:  # Loop over CORPUSES_LIST\n",
    "    corpus_dir = CORPUSES_PATH / corpus_name\n",
    "    pipe.is_economic_step_holder(corpus_dir, del_grades=True, prob_threshold=0.1) #TODO: change prob_threshold to 0.5\n"
   ]
  },
  {
   "cell_type": "code",
   "execution_count": null,
   "id": "156acf1a",
   "metadata": {},
   "outputs": [],
   "source": [
    "# run main roberta\n",
    "log_file_name = 'main_step_roberta'\n",
    "\n",
    "# set logger\n",
    "logger.handlers.clear()\n",
    "handler = logging.FileHandler(filename=LOGS_PATH / f'{log_file_name}.log')\n",
    "formatter = logging.Formatter('%(asctime)s - %(name)s - %(message)s')\n",
    "handler.setFormatter(formatter)\n",
    "logger.addHandler(handler)\n",
    "\n",
    "# Run roberta sentiment\n",
    "roberta_title_sentiment_label_dict = {\n",
    "    'negative': 'roberta_title_negative',\n",
    "    'neutral':  'roberta_title_neutral',\n",
    "    'positive': 'roberta_title_positive',\n",
    "}\n",
    "roberta_paragraph_sentiment_label_dict = {\n",
    "    'negative': 'roberta_paragraph_negative',\n",
    "    'neutral':  'roberta_paragraph_neutral',\n",
    "    'positive': 'roberta_paragraph_positive',\n",
    "}\n",
    "\n",
    "for corpus_name in CORPUSES_LIST:  # Loop over CORPUSES_LIST\n",
    "    corpus_dir = CORPUSES_PATH / corpus_name\n",
    "    pipe.roberta_step_holder(\n",
    "        corpus_dir=corpus_dir,\n",
    "        log_file_name=log_file_name,\n",
    "        roberta_title_label=roberta_title_sentiment_label_dict,\n",
    "        roberta_paragraph_label=roberta_paragraph_sentiment_label_dict,\n",
    "    )\n"
   ]
  },
  {
   "cell_type": "code",
   "execution_count": null,
   "id": "76a24821",
   "metadata": {},
   "outputs": [],
   "source": [
    "# run bert\n",
    "log_file_name = 'main_step_bert'\n",
    "\n",
    "# set logger\n",
    "logger.handlers.clear()\n",
    "handler = logging.FileHandler(filename=LOGS_PATH / f'{log_file_name}.log')\n",
    "formatter =logging.Formatter('%(asctime)s - %(name)s - %(message)s')\n",
    "handler.setFormatter(formatter)\n",
    "logger.addHandler(handler)\n",
    "\n",
    "# run main bert\n",
    "bert_title_label = {'negative': 'bert_title_negative', 'positive': 'bert_title_positive'}\n",
    "bert_paragraph_label = {'negative': 'bert_paragraph_negative', 'positive': 'bert_paragraph_positive'}\n",
    "\n",
    "for corpus_name in CORPUSES_LIST:  # Loop over CORPUSES_LIST\n",
    "    corpus_dir = CORPUSES_PATH / corpus_name\n",
    "    pipe.bert_step_holder(corpus_dir, log_file_name, bert_title_label, bert_paragraph_label)\n"
   ]
  },
  {
   "cell_type": "code",
   "execution_count": null,
   "id": "45c060a1",
   "metadata": {},
   "outputs": [],
   "source": [
    "#run tf-idf\n",
    "log_file_name = 'tf_idf'\n",
    "\n",
    "# set logger\n",
    "logger.handlers.clear()\n",
    "handler = logging.FileHandler(filename=LOGS_PATH / f'{log_file_name}.log')\n",
    "formatter =logging.Formatter('%(asctime)s - %(name)s - %(message)s')\n",
    "handler.setFormatter(formatter)\n",
    "logger.addHandler(handler)\n",
    "\n",
    "for corpus_name in CORPUSES_LIST:  # Loop over CORPUSES_LIST\n",
    "    corpus_dir = CORPUSES_PATH / corpus_name\n",
    "    pipe.tfidf_step_holder(corpus_dir, log_file_name)\n",
    "    #pipe.tfidf_step_holder_batched(corpus_dir, log_file_name)\n"
   ]
  },
  {
   "cell_type": "code",
   "execution_count": null,
   "id": "aad296cc",
   "metadata": {},
   "outputs": [],
   "source": [
    "# run xml_to_csv\n",
    "log_file_name = 'xml_to_csv'\n",
    "\n",
    "# set logger\n",
    "logger.handlers.clear()\n",
    "handler = logging.FileHandler(filename=LOGS_PATH / f'{log_file_name}.log')\n",
    "formatter =logging.Formatter('%(asctime)s - %(name)s - %(message)s')\n",
    "handler.setFormatter(formatter)\n",
    "logger.addHandler(handler)\n",
    "\n",
    "#--- run XML to CSV\n",
    "\n",
    "processed_tags = ['is_economic',  'tf_idf',\n",
    "                  'bert_title_negative',  'bert_title_positive',  'bert_paragraph_negative',  'bert_paragraph_positive',\n",
    "                  'roberta_title_negative',  'roberta_title_neutral',  'roberta_title_positive',  'roberta_paragraph_negative',\n",
    "                 ]\n",
    "\n",
    "# Newyork20042023, LosAngelesTimesDavid, TheWashingtonPostDavid,ChicagoTribune, USATodayDavid TheJerusalemPost\n",
    "# TODO delete result folders in  ChicagoTribune\n",
    "for corpus_name in CORPUSES_LIST:  # Loop over CORPUSES_LIST\n",
    "    corpus_dir = CORPUSES_PATH / corpus_name\n",
    "    pipe.xmls_to_csv(corpus_dir, log_file_name, processed_tags)\n"
   ]
  }
 ],
 "metadata": {
  "kernelspec": {
   "display_name": "venv",
   "language": "python",
   "name": "python3"
  },
  "language_info": {
   "codemirror_mode": {
    "name": "ipython",
    "version": 3
   },
   "file_extension": ".py",
   "mimetype": "text/x-python",
   "name": "python",
   "nbconvert_exporter": "python",
   "pygments_lexer": "ipython3",
   "version": "3.10.18"
  }
 },
 "nbformat": 4,
 "nbformat_minor": 5
}
