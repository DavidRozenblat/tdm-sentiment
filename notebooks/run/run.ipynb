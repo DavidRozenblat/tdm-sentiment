{
 "cells": [
  {
   "cell_type": "code",
   "execution_count": 8,
   "id": "a3362965",
   "metadata": {},
   "outputs": [],
   "source": [
    "# set environment\n",
    "from pathlib import Path\n",
    "SRC_PATH = Path('/home/ec2-user/SageMaker/david/tdm-sentiment/src/')\n",
    "import sys\n",
    "sys.path.append(str(SRC_PATH))\n",
    "from config import *\n"
   ]
  },
  {
   "cell_type": "code",
   "execution_count": 9,
   "id": "f5f421c4",
   "metadata": {},
   "outputs": [],
   "source": [
    "# Example: corpus_xmls_to_dfs.py\n",
    "\n",
    "def corpus_xmls_to_dfs(corpus_name):\n",
    "    # Build paths for file names and results\n",
    "    file_names_path = FILE_NAMES_PATH / corpus_name\n",
    "    results_path = PROJECT_DATA_PATH / 'processed' / 'results' / corpus_name\n",
    "\n",
    "    # Create the results path if it doesn't exist\n",
    "    results_path.mkdir(exist_ok=True)\n",
    "\n",
    "    # Call a function (xml_to_df) that processes the corpus\n",
    "    xml_to_df.xml_to_df(file_names_path, results_path)\n",
    "    return None\n"
   ]
  },
  {
   "cell_type": "code",
   "execution_count": 10,
   "id": "156acf1a",
   "metadata": {},
   "outputs": [
    {
     "name": "stderr",
     "output_type": "stream",
     "text": [
      "Processing chunk 0: 100%|██████████| 20/20 [00:00<00:00, 24.43it/s]\n",
      "Processing chunk 0: 100%|██████████| 20/20 [00:00<00:00, 25.08it/s]\n",
      "Processing chunk 0: 100%|██████████| 25/25 [00:00<00:00, 25.30it/s]\n",
      "Processing chunk 0: 100%|██████████| 21/21 [00:00<00:00, 26.79it/s]\n",
      "Processing chunk 0: 100%|██████████| 20/20 [00:00<00:00, 20.60it/s]\n"
     ]
    }
   ],
   "source": [
    "def main():\n",
    "    # Loop over each corpus in CORPUSES_LIST\n",
    "    for corpus_name in CORPUSES_LIST:\n",
    "        corpus_xmls_to_dfs(corpus_name)\n",
    "\n",
    "# If you want this script to be directly runnable:\n",
    "if __name__ == \"__main__\":\n",
    "    main()"
   ]
  }
 ],
 "metadata": {
  "kernelspec": {
   "display_name": ".venv",
   "language": "python",
   "name": "python3"
  },
  "language_info": {
   "codemirror_mode": {
    "name": "ipython",
    "version": 3
   },
   "file_extension": ".py",
   "mimetype": "text/x-python",
   "name": "python",
   "nbconvert_exporter": "python",
   "pygments_lexer": "ipython3",
   "version": "3.12.3"
  }
 },
 "nbformat": 4,
 "nbformat_minor": 5
}
