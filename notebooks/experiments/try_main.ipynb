{
 "cells": [
  {
   "cell_type": "code",
   "execution_count": null,
   "id": "7b3f659d",
   "metadata": {},
   "outputs": [],
   "source": []
  },
  {
   "cell_type": "code",
   "execution_count": null,
   "id": "daa314e3",
   "metadata": {},
   "outputs": [
    {
     "name": "stderr",
     "output_type": "stream",
     "text": [
      "Processing chunk 0: 100%|██████████| 2000/2000 [01:55<00:00, 17.33it/s]\n",
      "Processing chunk 1: 100%|██████████| 2000/2000 [01:35<00:00, 21.04it/s]\n",
      "Processing chunk 2: 100%|██████████| 2000/2000 [01:20<00:00, 24.98it/s]\n",
      "Processing chunk 3: 100%|██████████| 2000/2000 [01:25<00:00, 23.33it/s]\n",
      "Processing chunk 4: 100%|██████████| 2000/2000 [01:33<00:00, 21.48it/s]\n",
      "Processing chunk 5: 100%|██████████| 2000/2000 [01:30<00:00, 21.98it/s]\n",
      "Processing chunk 6: 100%|██████████| 2000/2000 [01:23<00:00, 24.05it/s]\n",
      "Processing chunk 7: 100%|██████████| 2000/2000 [01:31<00:00, 21.82it/s]\n",
      "Processing chunk 8: 100%|██████████| 2000/2000 [01:31<00:00, 21.92it/s]\n",
      "Processing chunk 9: 100%|██████████| 2000/2000 [01:20<00:00, 24.73it/s]\n",
      "Processing chunk 10: 100%|██████████| 2000/2000 [01:19<00:00, 25.30it/s]\n",
      "Processing chunk 11: 100%|██████████| 2000/2000 [01:24<00:00, 23.60it/s]\n",
      "Processing chunk 12: 100%|██████████| 2000/2000 [01:16<00:00, 26.24it/s]\n",
      "Processing chunk 13: 100%|██████████| 2000/2000 [01:18<00:00, 25.34it/s]\n",
      "Processing chunk 14: 100%|██████████| 2000/2000 [01:16<00:00, 26.29it/s]\n",
      "Processing chunk 15: 100%|██████████| 2000/2000 [01:19<00:00, 25.31it/s]\n",
      "Processing chunk 16: 100%|██████████| 2000/2000 [01:15<00:00, 26.35it/s]\n",
      "Processing chunk 17: 100%|██████████| 2000/2000 [01:16<00:00, 26.11it/s]\n",
      "Processing chunk 18: 100%|██████████| 2000/2000 [01:16<00:00, 26.15it/s]\n",
      "Processing chunk 19: 100%|██████████| 2000/2000 [01:17<00:00, 25.92it/s]\n",
      "Processing chunk 20: 100%|██████████| 2000/2000 [01:15<00:00, 26.60it/s]\n",
      "Processing chunk 21: 100%|██████████| 2000/2000 [01:15<00:00, 26.50it/s]\n",
      "Processing chunk 22: 100%|██████████| 2000/2000 [01:26<00:00, 23.25it/s]\n",
      "Processing chunk 23: 100%|██████████| 2000/2000 [01:21<00:00, 24.46it/s]\n",
      "Processing chunk 24: 100%|██████████| 2000/2000 [01:20<00:00, 24.81it/s]\n",
      "Processing chunk 25: 100%|██████████| 2000/2000 [01:19<00:00, 25.22it/s]\n",
      "Processing chunk 26: 100%|██████████| 2000/2000 [01:22<00:00, 24.37it/s]\n",
      "Processing chunk 27:   0%|          | 0/2000 [00:00<?, ?it/s]"
     ]
    }
   ],
   "source": [
    "# set environment\n",
    "from pathlib import Path\n",
    "SRC_PATH = Path('/home/ec2-user/SageMaker/david/tdm-sentiment/src/')\n",
    "import sys\n",
    "sys.path.append(str(SRC_PATH))\n",
    "from config import *\n",
    "\n",
    "corpus_name = 'Newyork20042023_sample'\n",
    "file_names_path = FILE_NAMES_PATH / corpus_name\n",
    "results_path = PROJECT_DATA_PATH / 'processed/results/' / corpus_name  \n",
    "results_path.mkdir(exist_ok=True) \n",
    "\n",
    "    \n",
    "xml_to_df(file_names_path, results_path)"
   ]
  }
 ],
 "metadata": {
  "kernelspec": {
   "display_name": "david_py",
   "language": "python",
   "name": "david_py"
  },
  "language_info": {
   "codemirror_mode": {
    "name": "ipython",
    "version": 3
   },
   "file_extension": ".py",
   "mimetype": "text/x-python",
   "name": "python",
   "nbconvert_exporter": "python",
   "pygments_lexer": "ipython3",
   "version": "3.12.7"
  }
 },
 "nbformat": 4,
 "nbformat_minor": 5
}
