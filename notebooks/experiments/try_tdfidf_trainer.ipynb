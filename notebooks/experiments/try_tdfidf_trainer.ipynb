{
 "cells": [
  {
   "cell_type": "code",
   "execution_count": 27,
   "id": "7b3f659d",
   "metadata": {},
   "outputs": [],
   "source": [
    "# set environment\n",
    "from pathlib import Path\n",
    "SRC_PATH = Path('/home/ec2-user/SageMaker/david/tdm-sentiment/src/')\n",
    "import sys\n",
    "sys.path.append(str(SRC_PATH))\n",
    "from config import *\n",
    "tf_idf_keyword_extractor = tf_idf_keyword_extractor.TfidfKeywordExtractor()\n",
    "result_folder_path = PROJECT_DATA_PATH / 'processed/results'\n",
    "corpus_name = 'representative_sample'"
   ]
  },
  {
   "cell_type": "code",
   "execution_count": 33,
   "id": "cf662b61",
   "metadata": {},
   "outputs": [],
   "source": [
    "import ast\n",
    "from tqdm.notebook import tqdm\n",
    "import joblib\n",
    "\n",
    "\n",
    "\n",
    "def get_doc_str(row, body_text_col, title_col):\n",
    "    \"\"\"\n",
    "    Combine an article's title and body text into a single string.\n",
    "    \n",
    "    The body text column is expected to store a string representation of a list.\n",
    "    This function converts that string to a list, prepends the title, and then joins all parts into one string.\n",
    "    \n",
    "    Parameters:\n",
    "    - row: A pandas Series representing a DataFrame row.\n",
    "    - body_text_col: Name of the column containing the body text.\n",
    "    - title_col: Name of the column containing the title.\n",
    "    \n",
    "    Returns:\n",
    "    - A string combining the title and the evaluated body text.\n",
    "    \"\"\"\n",
    "    # Convert the string representation of a list into an actual list.\n",
    "    #print(row)\n",
    "    body_text_list = ast.literal_eval(row[body_text_col]) \n",
    "    # Extract the title from the row.\n",
    "    title_str = row[title_col]\n",
    "    # Combine the title with the body text list and join with a space.\n",
    "    doc_str = \" \".join([title_str] + body_text_list)\n",
    "    return doc_str\n",
    "\n",
    "def get_csv_file_names(path):\n",
    "    \"\"\"\n",
    "    Retrieve sorted CSV file names from a specified folder.\n",
    "    \n",
    "    This function assumes that CSV file names contain an underscore followed by an integer \n",
    "    at the second position when split by '_'. Sorting is performed based on that integer.\n",
    "    \n",
    "    Parameters:\n",
    "    - result_folder_path: The path to the directory containing CSV files.\n",
    "    - corpus_name: Corpus identifier (currently not used in the function).\n",
    "    \n",
    "    Returns:\n",
    "    - A list of CSV file names sorted according to the embedded integer.\n",
    "    \"\"\"\n",
    "    # Get all CSV file names in the folder.\n",
    "    file_list = [f.name for f in path.glob('*.csv')]\n",
    "    # Sort file names using the integer in the file name.\n",
    "    file_list = sorted(file_list, key=lambda x: int(x.split('_')[1]))\n",
    "    return file_list\n",
    "\n",
    "def get_title_body_str(result_folder_path, corpus_name):\n",
    "    \"\"\"\n",
    "    Process CSV files in the specified folder and return a list of concatenated title-body strings.\n",
    "    \n",
    "    For each CSV file, the function reads the data, then processes each row to combine the title \n",
    "    and body text (which is stored as a string representation of a list) into a single string.\n",
    "    \n",
    "    Parameters:\n",
    "    - result_folder_path: The path to the directory containing CSV files.\n",
    "    - corpus_name: Corpus identifier used for filtering or sorting CSV files.\n",
    "    \n",
    "    Returns:\n",
    "    - A list of strings where each string is the concatenation of an article's title and body text.\n",
    "    \"\"\"\n",
    "    exception_counter = 0\n",
    "    title_body_str_lst = []\n",
    "    csv_file_names_list = get_csv_file_names(result_folder_path / corpus_name)[:5]\n",
    "    \n",
    "    if not csv_file_names_list:\n",
    "        print(\"No CSV files found or modification aborted by the user.\")\n",
    "        return []\n",
    "    \n",
    "    for i, file_name in enumerate(csv_file_names_list):\n",
    "        print(f\"Processing chunk {i}: {file_name}\")\n",
    "        file_path = result_folder_path / corpus_name / file_name\n",
    "        df = pd.read_csv(file_path)\n",
    "        \n",
    "        chunk_results = []\n",
    "        # Process each row with a progress bar.\n",
    "        with tqdm(total=len(df), desc=f\"Processing chunk {i}\", bar_format=\"{l_bar}{bar:10}{r_bar}\") as pbar:\n",
    "            for _, row in df.iterrows():\n",
    "                try:\n",
    "                    doc_str = get_doc_str(row, 'Text', 'Title')\n",
    "                    chunk_results.append(doc_str)\n",
    "                except Exception as e:\n",
    "                    exception_counter + 1\n",
    "                pbar.update(1)\n",
    "        \n",
    "        title_body_str_lst.extend(chunk_results)\n",
    "    print(f'exception_counter: {exception_counter}')\n",
    "    return title_body_str_lst\n",
    "\n",
    "\n",
    "def train_model(train_lst, tdf_vectorizer):\n",
    "    \"\"\"\n",
    "    Train the vectorizer on the provided training documents and save the model to disk.\n",
    "\n",
    "    This function takes a list of training documents and an instance of a vectorizer.\n",
    "    It uses the vectorizer's 'train' method to fit the model to the training data and then\n",
    "    saves the trained model to a pickle file named 'tfidf_vectorizer.pkl' using the vectorizer's 'save' method.\n",
    "\n",
    "    Parameters:\n",
    "    - train_lst (list): A list of training documents (strings) for training the model.\n",
    "    - tdf_vectorizer: An object that implements a 'train' method for model training and a 'save' method for persisting the model.\n",
    "    \n",
    "    Returns: None\n",
    "    \"\"\"\n",
    "    tdf_vectorizer.train(train_lst)\n",
    "    # Save the trained model to a pickle file.\n",
    "    tdf_vectorizer.save('tfidf_vectorizer.pkl')\n"
   ]
  },
  {
   "cell_type": "code",
   "execution_count": 36,
   "id": "daa314e3",
   "metadata": {},
   "outputs": [
    {
     "name": "stdout",
     "output_type": "stream",
     "text": [
      "Processing chunk 0: chunk_1_data.csv\n"
     ]
    },
    {
     "data": {
      "application/vnd.jupyter.widget-view+json": {
       "model_id": "12ce4afe8fa14d02a5f0d696021b9045",
       "version_major": 2,
       "version_minor": 0
      },
      "text/plain": [
       "Processing chunk 0:   0%|          | 0/5000 [00:00<?, ?it/s]"
      ]
     },
     "metadata": {},
     "output_type": "display_data"
    },
    {
     "name": "stdout",
     "output_type": "stream",
     "text": [
      "Processing chunk 1: chunk_2_data.csv\n"
     ]
    },
    {
     "data": {
      "application/vnd.jupyter.widget-view+json": {
       "model_id": "38f3a72d32f046419ad80d3a1fd4ebbf",
       "version_major": 2,
       "version_minor": 0
      },
      "text/plain": [
       "Processing chunk 1:   0%|          | 0/5000 [00:00<?, ?it/s]"
      ]
     },
     "metadata": {},
     "output_type": "display_data"
    },
    {
     "name": "stdout",
     "output_type": "stream",
     "text": [
      "Processing chunk 2: chunk_3_data.csv\n"
     ]
    },
    {
     "data": {
      "application/vnd.jupyter.widget-view+json": {
       "model_id": "87d17d5d33bc46faa2d477cf2e1f1a35",
       "version_major": 2,
       "version_minor": 0
      },
      "text/plain": [
       "Processing chunk 2:   0%|          | 0/5000 [00:00<?, ?it/s]"
      ]
     },
     "metadata": {},
     "output_type": "display_data"
    },
    {
     "name": "stdout",
     "output_type": "stream",
     "text": [
      "Processing chunk 3: chunk_4_data.csv\n"
     ]
    },
    {
     "data": {
      "application/vnd.jupyter.widget-view+json": {
       "model_id": "5330bc98f3d34554a4bdbc67442b595d",
       "version_major": 2,
       "version_minor": 0
      },
      "text/plain": [
       "Processing chunk 3:   0%|          | 0/5000 [00:00<?, ?it/s]"
      ]
     },
     "metadata": {},
     "output_type": "display_data"
    },
    {
     "name": "stdout",
     "output_type": "stream",
     "text": [
      "Processing chunk 4: chunk_5_data.csv\n"
     ]
    },
    {
     "data": {
      "application/vnd.jupyter.widget-view+json": {
       "model_id": "d229314fffcb4614814334ba1e4667db",
       "version_major": 2,
       "version_minor": 0
      },
      "text/plain": [
       "Processing chunk 4:   0%|          | 0/5000 [00:00<?, ?it/s]"
      ]
     },
     "metadata": {},
     "output_type": "display_data"
    },
    {
     "name": "stdout",
     "output_type": "stream",
     "text": [
      "exception_counter: 0\n",
      "TF-IDF Vectorizer model saved as 'tfidf_vectorizer.pkl'.\n"
     ]
    }
   ],
   "source": [
    "lst = get_title_body_str(result_folder_path, corpus_name)\n",
    "lst[0]\n",
    "\n",
    "train_model(lst, tf_idf_keyword_extractor)"
   ]
  }
 ],
 "metadata": {
  "kernelspec": {
   "display_name": "david_py",
   "language": "python",
   "name": "david_py"
  },
  "language_info": {
   "codemirror_mode": {
    "name": "ipython",
    "version": 3
   },
   "file_extension": ".py",
   "mimetype": "text/x-python",
   "name": "python",
   "nbconvert_exporter": "python",
   "pygments_lexer": "ipython3",
   "version": "3.12.7"
  }
 },
 "nbformat": 4,
 "nbformat_minor": 5
}
