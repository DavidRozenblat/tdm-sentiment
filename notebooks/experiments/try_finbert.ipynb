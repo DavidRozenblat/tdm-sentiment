{
 "cells": [
  {
   "cell_type": "code",
   "execution_count": 6,
   "id": "2ab51530",
   "metadata": {},
   "outputs": [
    {
     "name": "stdout",
     "output_type": "stream",
     "text": [
      "BERT model loaded successfully from 'C:\\Users\\pc\\Documents\\work\\bank of israel\\financial division\\yossi\\tdm-sentiment\\src\\sentiment\\sentiment_model\\distilbert-base-uncased-finetuned-sst-2-english' on device -1.\n",
      "\n",
      " --------------------\n",
      "text: Majority in City See Police Dept. As Favoring Whites, a Poll Finds\n",
      "\n",
      "Raw old probabilities:\n",
      "Sentiment distribution: {'negative': 0.8694320917129517, 'positive': 0.13056784868240356}\n",
      "Overall sentiment score: -0.7388642870702915\n",
      "-------------------- \n",
      "\n"
     ]
    },
    {
     "name": "stderr",
     "output_type": "stream",
     "text": [
      "c:\\Users\\pc\\AppData\\Local\\Programs\\Python\\Python312\\Lib\\site-packages\\transformers\\pipelines\\text_classification.py:104: UserWarning: `return_all_scores` is now deprecated,  if want a similar functionality use `top_k=None` instead of `return_all_scores=True` or `top_k=1` instead of `return_all_scores=False`.\n",
      "  warnings.warn(\n"
     ]
    },
    {
     "name": "stdout",
     "output_type": "stream",
     "text": [
      "BERT model loaded successfully from 'C:\\Users\\pc\\Documents\\work\\bank of israel\\financial division\\yossi\\tdm-sentiment\\src\\sentiment\\sentiment_model\\finbert_local' on device -1.\n",
      "\n",
      " --------------------\n",
      "text: Majority in City See Police Dept. As Favoring Whites, a Poll Finds\n",
      "\n",
      "Raw finbert probabilities:\n",
      "Sentiment distribution: {'neutral': 0.9999957084655762, 'positive': 3.433594031321263e-08, 'negative': 4.348573838797165e-06}\n",
      "Overall sentiment score: -0.9843318972811793\n",
      "-------------------- \n",
      "\n"
     ]
    }
   ],
   "source": [
    "# set environment\n",
    "from pathlib import Path\n",
    "SRC_PATH = Path('/home/ec2-user/SageMaker/david/tdm-sentiment/src/')\n",
    "import sys\n",
    "sys.path.append(str(SRC_PATH))\n",
    "from config import *\n",
    "\n",
    "text = \"In recent years, the global economy has faced huge changes and unexpected challenges that are changing the way countries and industries operate. After the pandemic, it’s clear that flexible government spending, creative money management, and strong supply chains are essential. These shifts have exposed weak points in our system but also opened up new chances for growth and improvement.\"\n",
    "text = \"Majority in City See Police Dept. As Favoring Whites, a Poll Finds\"\n",
    "# Example usage classic model:\n",
    "sentiment_analyzer = sentiment_score.TextAnalysis(SENTIMENT_MODEL_PATH_CLASSIC)\n",
    "sentiment_dict = sentiment_analyzer.get_sentiment_dict(text)\n",
    "\n",
    "print('\\n', '-'*20)\n",
    "print(f'text: {text}\\n')\n",
    "print(\"Raw old probabilities:\")\n",
    "print(f'Sentiment distribution: {sentiment_dict}')\n",
    "\n",
    "# Get the computed overall sentiment score.\n",
    "score = sentiment_analyzer.txt_score(text)\n",
    "print(f\"Overall sentiment score: {score}\")\n",
    "print('-'*20, '\\n')\n",
    "\n",
    "\n",
    "# Example usage finbert model:\n",
    "sentiment_analyzer = sentiment_score.TextAnalysis(SENTIMENT_MODEL_PATH)\n",
    "sentiment_dict = sentiment_analyzer.get_sentiment_dict(text)\n",
    "\n",
    "print('\\n', '-'*20)\n",
    "print(f'text: {text}\\n')\n",
    "print(\"Raw finbert probabilities:\")\n",
    "print(f'Sentiment distribution: {sentiment_dict}')\n",
    "\n",
    "# Get the computed overall sentiment score.\n",
    "score = sentiment_analyzer.txt_score(text)\n",
    "print(f\"Overall sentiment score: {score}\")\n",
    "print('-'*20, '\\n')\n"
   ]
  }
 ],
 "metadata": {
  "kernelspec": {
   "display_name": "Python 3",
   "language": "python",
   "name": "python3"
  },
  "language_info": {
   "codemirror_mode": {
    "name": "ipython",
    "version": 3
   },
   "file_extension": ".py",
   "mimetype": "text/x-python",
   "name": "python",
   "nbconvert_exporter": "python",
   "pygments_lexer": "ipython3",
   "version": "3.12.4"
  }
 },
 "nbformat": 4,
 "nbformat_minor": 5
}
