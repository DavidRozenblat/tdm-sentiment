{
 "cells": [
  {
   "cell_type": "code",
   "execution_count": 3,
   "id": "f7e437ad",
   "metadata": {},
   "outputs": [
    {
     "name": "stderr",
     "output_type": "stream",
     "text": [
      "Device set to use cpu\n"
     ]
    },
    {
     "name": "stdout",
     "output_type": "stream",
     "text": [
      "BERT model loaded successfully from '/home/ec2-user/SageMaker/david/tdm-sentiment/src/sentiment/sentiment_model/distilbert-base-uncased-finetuned-sst-2-english' on device -1.\n",
      "<generator object Path.glob at 0x7fd9b380cbf0>\n"
     ]
    }
   ],
   "source": [
    "# set environment\n",
    "from pathlib import Path\n",
    "SRC_PATH = Path('/home/ec2-user/SageMaker/david/tdm-sentiment/src/')\n",
    "import sys\n",
    "sys.path.append(str(SRC_PATH))\n",
    "from config import *\n",
    "sentiment_analyzer = sentiment_score.TextAnalysis(SENTIMENT_MODEL_PATH)\n",
    "print(SRC_PATH.glob(\"*\"))"
   ]
  },
  {
   "cell_type": "code",
   "execution_count": 3,
   "id": "9acc7f7b",
   "metadata": {},
   "outputs": [
    {
     "name": "stdout",
     "output_type": "stream",
     "text": [
      "Newyork20042023\n",
      "All paragraph sentiment probability files processed successfully!\n"
     ]
    }
   ],
   "source": [
    "def modify_corpus_paragraph_sentiment_prob(corpus_name):\n",
    "    result_folder_path = PROJECT_DATA_PATH / 'processed/results/' / corpus_name\n",
    "    properties_modifier.modify_csv_paragraph_sentiment_prob(result_folder_path, corpus_name, sentiment_analyzer)\n",
    "    \n",
    "def main():\n",
    "    # Loop over each corpus in CORPUSES_LIST\n",
    "    #for corpus_name in CORPUSES_LIST:\n",
    "    corpus_name = CORPUSES_LIST[0]\n",
    "    print(corpus_name)\n",
    "    modify_corpus_paragraph_sentiment_prob(corpus_name)\n",
    "        \n",
    "if __name__ == \"__main__\":\n",
    "    main()\n",
    "    "
   ]
  }
 ],
 "metadata": {
  "kernelspec": {
   "display_name": ".venv",
   "language": "python",
   "name": "python3"
  },
  "language_info": {
   "codemirror_mode": {
    "name": "ipython",
    "version": 3
   },
   "file_extension": ".py",
   "mimetype": "text/x-python",
   "name": "python",
   "nbconvert_exporter": "python",
   "pygments_lexer": "ipython3",
   "version": "3.12.3"
  }
 },
 "nbformat": 4,
 "nbformat_minor": 5
}
