{
 "cells": [
  {
   "cell_type": "code",
   "execution_count": 1,
   "id": "f7e437ad",
   "metadata": {},
   "outputs": [],
   "source": [
    "# set environment\n",
    "from pathlib import Path\n",
    "SRC_PATH = Path('/home/ec2-user/SageMaker/david/tdm-sentiment/src/')\n",
    "import sys\n",
    "sys.path.append(str(SRC_PATH))\n",
    "from config import *\n",
    "#tf_idf_extractor = tf_idf_extractor.TfidfKeywordExtractor(model_path=TF_IDF_MODEL_PATH)\n",
    "#sentiment_analyzer = sentiment_score.TextAnalysis(SENTIMENT_MODEL_PATH)\n",
    "corpus_name = 'short_sample' #TODO remove\n",
    "#log_path = LOGS_PATH / f'{corpus_name}_tf_idf_tags_log_.txt'\n",
    "#if log_path.exists():\n",
    "    #log_path.unlink()  # delete log_path\n"
   ]
  },
  {
   "cell_type": "code",
   "execution_count": 2,
   "id": "a5780f99",
   "metadata": {},
   "outputs": [],
   "source": [
    "def modify_corpus_tf_idf_tags(corpus_name):\n",
    "    result_folder_path = PROJECT_DATA_PATH / 'processed/results/' / corpus_name\n",
    "    properties_modifier.modify_csv_tf_idf(result_folder_path, corpus_name, tf_idf_extractor, top_n = 15)\n",
    "    \n",
    "def modify_corpus_title_sentiment(corpus_name):\n",
    "    result_folder_path = PROJECT_DATA_PATH / 'processed/results/' / corpus_name\n",
    "    properties_modifier.modify_csv_title_sentiment(result_folder_path, corpus_name, sentiment_analyzer)\n",
    "    \n",
    "def add_tag_to_corpus(corpus_name, tag_name):\n",
    "    result_folder_path = PROJECT_DATA_PATH / 'processed/results/' / corpus_name\n",
    "    properties_modifier.add_a_tdm_tag_to_csv(result_folder_path, corpus_name, tag_name)\n"
   ]
  },
  {
   "cell_type": "code",
   "execution_count": 3,
   "id": "9acc7f7b",
   "metadata": {},
   "outputs": [
    {
     "name": "stdout",
     "output_type": "stream",
     "text": [
      "Processing chunk 0: c_11_data.csv short_sample\n"
     ]
    },
    {
     "name": "stderr",
     "output_type": "stream",
     "text": [
      "Processing chunk 0: 100%|██████████| 100/100 [00:00<00:00, 474.18it/s]"
     ]
    },
    {
     "name": "stdout",
     "output_type": "stream",
     "text": [
      "All files processed successfully!\n"
     ]
    },
    {
     "name": "stderr",
     "output_type": "stream",
     "text": [
      "\n"
     ]
    }
   ],
   "source": [
    "\n",
    "def main():\n",
    "    # Loop over each corpus in CORPUSES_LIST\n",
    "    #for corpus_name in CORPUSES_LIST:\n",
    "    #modify_corpus_tf_idf_tags(corpus_name)\n",
    "    #modify_corpus_title_sentiment(corpus_name)\n",
    "    add_tag_to_corpus(corpus_name, tag_name='Language')\n",
    "if __name__ == \"__main__\":\n",
    "    main()\n",
    "    "
   ]
  }
 ],
 "metadata": {
  "kernelspec": {
   "display_name": "david_py",
   "language": "python",
   "name": "david_py"
  },
  "language_info": {
   "codemirror_mode": {
    "name": "ipython",
    "version": 3
   },
   "file_extension": ".py",
   "mimetype": "text/x-python",
   "name": "python",
   "nbconvert_exporter": "python",
   "pygments_lexer": "ipython3",
   "version": "3.12.7"
  }
 },
 "nbformat": 4,
 "nbformat_minor": 5
}
