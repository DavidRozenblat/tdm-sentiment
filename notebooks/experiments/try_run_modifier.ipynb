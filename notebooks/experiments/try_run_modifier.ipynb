{
 "cells": [
  {
   "cell_type": "code",
   "execution_count": 7,
   "id": "f7e437ad",
   "metadata": {},
   "outputs": [
    {
     "name": "stderr",
     "output_type": "stream",
     "text": [
      "Device set to use cpu\n"
     ]
    },
    {
     "name": "stdout",
     "output_type": "stream",
     "text": [
      "BERT model loaded successfully from '/home/ec2-user/SageMaker/david/tdm-sentiment/src/sentiment/sentiment_model/finbert_local' on device -1.\n"
     ]
    }
   ],
   "source": [
    "# set environment\n",
    "from pathlib import Path\n",
    "SRC_PATH = Path('/home/ec2-user/SageMaker/david/tdm-sentiment/src/')\n",
    "import sys\n",
    "sys.path.append(str(SRC_PATH))\n",
    "from config import *\n",
    "#tf_idf_extractor = tf_idf_extractor.TfidfKeywordExtractor(model_path=TF_IDF_MODEL_PATH)\n",
    "sentiment_analyzer = sentiment_score.TextAnalysis(SENTIMENT_MODEL_PATH)\n",
    "corpus_name = 'LosAngelesTimesDavid' #Newyork20042023\n",
    "#log_path = LOGS_PATH / f'{corpus_name}_tf_idf_tags_log_.txt'\n",
    "#if log_path.exists():\n",
    "    #log_path.unlink()  # delete log_path\n"
   ]
  },
  {
   "cell_type": "code",
   "execution_count": 8,
   "id": "a5780f99",
   "metadata": {},
   "outputs": [],
   "source": [
    "def modify_corpus_tf_idf_tags(corpus_name):\n",
    "    result_folder_path = PROJECT_DATA_PATH / 'processed/results/' / corpus_name\n",
    "    properties_modifier.modify_csv_tf_idf(result_folder_path, corpus_name, tf_idf_extractor, top_n = 15)\n",
    "    \n",
    "def modify_corpus_title_sentiment(corpus_name):\n",
    "    result_folder_path = PROJECT_DATA_PATH / 'processed/results/' / corpus_name\n",
    "    properties_modifier.modify_csv_title_sentiment(result_folder_path, corpus_name, sentiment_analyzer)\n",
    "    \n",
    "def modify_corpus_title_sentiment_prob(corpus_name):\n",
    "    result_folder_path = PROJECT_DATA_PATH / 'processed/results/' / corpus_name\n",
    "    properties_modifier.modify_csv_title_sentiment_prob(result_folder_path, corpus_name, sentiment_analyzer)\n",
    "    \n",
    "def add_tag_to_corpus(corpus_name, tag_name):\n",
    "    result_folder_path = PROJECT_DATA_PATH / 'processed/results/' / corpus_name\n",
    "    properties_modifier.add_a_tdm_tag_to_csv(result_folder_path, corpus_name, tag_name)\n",
    "    \n",
    "def modify_corpus_paragraph_sentiment_prob(corpus_name):\n",
    "    result_folder_path = PROJECT_DATA_PATH / 'processed/results/' / corpus_name\n",
    "    properties_modifier.modify_csv_paragraph_sentiment_prob(result_folder_path, corpus_name, sentiment_analyzer)\n",
    "    \n"
   ]
  },
  {
   "cell_type": "code",
   "execution_count": 9,
   "id": "9acc7f7b",
   "metadata": {},
   "outputs": [
    {
     "name": "stdout",
     "output_type": "stream",
     "text": [
      "Processing chunk 0: chunk_0_data.csv\n"
     ]
    },
    {
     "name": "stderr",
     "output_type": "stream",
     "text": [
      "Chunk 0:   0%|          | 0/20 [00:00<?, ?it/s]"
     ]
    },
    {
     "name": "stderr",
     "output_type": "stream",
     "text": [
      "/home/davidrozenblat/tdm-sentiment/.venv/lib/python3.12/site-packages/transformers/pipelines/text_classification.py:106: UserWarning: `return_all_scores` is now deprecated,  if want a similar functionality use `top_k=None` instead of `return_all_scores=True` or `top_k=1` instead of `return_all_scores=False`.\n",
      "  warnings.warn(\n",
      "Chunk 0: 100%|██████████| 20/20 [01:04<00:00,  3.20s/it]    "
     ]
    },
    {
     "name": "stdout",
     "output_type": "stream",
     "text": [
      "All paragraph sentiment probability files processed successfully!\n"
     ]
    },
    {
     "name": "stderr",
     "output_type": "stream",
     "text": [
      "\n"
     ]
    }
   ],
   "source": [
    "\n",
    "def main():\n",
    "    # Loop over each corpus in CORPUSES_LIST\n",
    "    #for corpus_name in CORPUSES_LIST:\n",
    "    #modify_corpus_tf_idf_tags(corpus_name)\n",
    "    #modify_corpus_title_sentiment(corpus_name)\n",
    "    modify_corpus_paragraph_sentiment_prob(corpus_name)\n",
    "\n",
    "if __name__ == \"__main__\":\n",
    "    main()\n",
    "    "
   ]
  }
 ],
 "metadata": {
  "kernelspec": {
   "display_name": ".venv",
   "language": "python",
   "name": "python3"
  },
  "language_info": {
   "codemirror_mode": {
    "name": "ipython",
    "version": 3
   },
   "file_extension": ".py",
   "mimetype": "text/x-python",
   "name": "python",
   "nbconvert_exporter": "python",
   "pygments_lexer": "ipython3",
   "version": "3.12.3"
  }
 },
 "nbformat": 4,
 "nbformat_minor": 5
}
