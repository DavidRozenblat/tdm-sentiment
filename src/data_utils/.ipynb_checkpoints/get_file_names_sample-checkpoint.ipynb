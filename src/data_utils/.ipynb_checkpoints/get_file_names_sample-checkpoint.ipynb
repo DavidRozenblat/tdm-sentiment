{
 "cells": [
  {
   "cell_type": "code",
   "execution_count": 3,
   "id": "455f8cda",
   "metadata": {},
   "outputs": [
    {
     "name": "stdout",
     "output_type": "stream",
     "text": [
      "658805 random lines starting with 'LosAngelesTimesDavid' have been written to /home/ec2-user/SageMaker/david/tdm-sentiment/data/file_names/LosAngelesTimesDavid.txt.\n"
     ]
    }
   ],
   "source": [
    "import random\n",
    "from pathlib import Path\n",
    "\n",
    "\n",
    "dataset_name_list = ['USATodayDavid', 'ChicagoTribune', 'Newyork20042023', 'TheWashingtonPostDavid', 'LosAngelesTimesDavid']\n",
    "project_path = Path('/home/ec2-user/SageMaker/david/tdm-sentiment/')\n",
    "data_path = project_path / 'data/'\n",
    "data_sample = Path('/home/ec2-user/SageMaker/data/')\n",
    "\n",
    "# Define file paths\n",
    "start_string = 'LosAngelesTimesDavid'  # TODO choose\n",
    "input_file = data_path / 'file_names' / 'economic_dataset_file_names.txt' # 'economic_dataset_file_names.txt' LosAngelesTimesDavid # Path to the input text file\n",
    "output_file = data_path / 'file_names' / f'{start_string}.txt'  # Path to the output text file \n",
    "\n",
    "\n",
    "# Read all lines from the input file\n",
    "with open(input_file, 'r') as file:\n",
    "    lines = file.readlines()\n",
    "\n",
    "# Filter lines that start with the specific string\n",
    "filtered_lines = [line for line in lines if line.startswith(start_string)]\n",
    "\n",
    "sample_size = 3000000\n",
    "# Select sample_size random lines from the filtered list (ensure there are enough lines)\n",
    "if len(filtered_lines) >= sample_size:\n",
    "    random_lines = random.sample(filtered_lines, sample_size)\n",
    "else:\n",
    "    random_lines = filtered_lines  # If there are less than 100, take all available\n",
    "\n",
    "# Write the selected lines to the output file\n",
    "with open(output_file, 'w') as file:\n",
    "    file.writelines(random_lines)\n",
    "\n",
    "print(f\"{len(random_lines)} random lines starting with '{start_string}' have been written to {output_file}.\")\n",
    "#\n"
   ]
  }
 ],
 "metadata": {
  "kernelspec": {
   "display_name": "conda_david_py",
   "language": "python",
   "name": "conda_david_py"
  },
  "language_info": {
   "codemirror_mode": {
    "name": "ipython",
    "version": 3
   },
   "file_extension": ".py",
   "mimetype": "text/x-python",
   "name": "python",
   "nbconvert_exporter": "python",
   "pygments_lexer": "ipython3",
   "version": "3.12.5"
  }
 },
 "nbformat": 4,
 "nbformat_minor": 5
}
