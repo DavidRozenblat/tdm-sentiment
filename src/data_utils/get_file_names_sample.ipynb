{
 "cells": [
  {
   "cell_type": "code",
   "execution_count": 1,
   "id": "455f8cda",
   "metadata": {},
   "outputs": [
    {
     "name": "stdout",
     "output_type": "stream",
     "text": [
      "20 random lines starting with 'USATodayDavid' have been written to /home/ec2-user/SageMaker/david/tdm-sentiment/data/file_names/USATodayDavid.txt.\n"
     ]
    }
   ],
   "source": [
    "from pathlib import Path\n",
    "import sys\n",
    "\n",
    "# Define the source path and add it to sys.path.\n",
    "SRC_PATH = Path('/home/ec2-user/SageMaker/david/tdm-sentiment/src')\n",
    "sys.path.append(str(SRC_PATH))\n",
    "\n",
    "from config import *  # Make sure config defines: TextAnalysis, SENTIMENT_MODEL_PATH, LOGS_PATH, etc.\n",
    "import random\n",
    "\n",
    "# Define file paths\n",
    "start_string = 'USATodayDavid'  #'representative_sample' TODO choose \n",
    "\n",
    "input_file = FILE_NAMES_PATH / 'economic_dataset_file_names.txt'  #'all_dataset_file_names.txt' LosAngelesTimesDavid all_dataset_file_names.txt # Path to the input text file\n",
    "output_file = FILE_NAMES_PATH / f'{start_string}.txt'  # Path to the output text file \n",
    "\n",
    "\n",
    "# Read all lines from the input file\n",
    "with open(input_file, 'r') as file:\n",
    "    lines = file.readlines()\n",
    "\n",
    "# Filter lines that start with the specific string\n",
    "filtered_lines = [line for line in lines if line.startswith(start_string)] # TODO lines\n",
    "\n",
    "sample_size = 10**6\n",
    "# Select sample_size random lines from the filtered list (ensure there are enough lines)\n",
    "if len(filtered_lines) >= sample_size:\n",
    "    random_lines = random.sample(filtered_lines, sample_size)\n",
    "else:\n",
    "    random_lines = filtered_lines  # If there are less than 100, take all available\n",
    "\n",
    "# Write the selected lines to the output file\n",
    "with open(output_file, 'w') as file:\n",
    "    file.writelines(random_lines)\n",
    "\n",
    "print(f\"{len(random_lines)} random lines starting with '{start_string}' have been written to {output_file}.\")\n",
    "\n"
   ]
  }
 ],
 "metadata": {
  "kernelspec": {
   "display_name": ".venv",
   "language": "python",
   "name": "python3"
  },
  "language_info": {
   "codemirror_mode": {
    "name": "ipython",
    "version": 3
   },
   "file_extension": ".py",
   "mimetype": "text/x-python",
   "name": "python",
   "nbconvert_exporter": "python",
   "pygments_lexer": "ipython3",
   "version": "3.12.3"
  }
 },
 "nbformat": 4,
 "nbformat_minor": 5
}
